{
 "metadata": {
  "name": ""
 },
 "nbformat": 3,
 "nbformat_minor": 0,
 "worksheets": [
  {
   "cells": [
    {
     "cell_type": "code",
     "collapsed": false,
     "input": [
      "%load_ext autoreload"
     ],
     "language": "python",
     "metadata": {},
     "outputs": [],
     "prompt_number": 41
    },
    {
     "cell_type": "code",
     "collapsed": false,
     "input": [
      "%autoreload 2"
     ],
     "language": "python",
     "metadata": {},
     "outputs": [],
     "prompt_number": 42
    },
    {
     "cell_type": "heading",
     "level": 2,
     "metadata": {},
     "source": [
      "Experiments with the GREB Model"
     ]
    },
    {
     "cell_type": "markdown",
     "metadata": {},
     "source": [
      "Initial experiments\n",
      "- Wind anomaly: \n",
      "    - v_anom.pos/neg\n",
      "    - u_anom.pos/neg\n",
      "    - u_vanom.pos/neg\n",
      "- Cloud anomaly: \n",
      "    - cld.inc\n",
      "    - cld.dec\n",
      "- Soil Moisture anomaly: \n",
      "    - smc.wet\n",
      "    - smc.dry\n",
      "- SST anomaly"
     ]
    },
    {
     "cell_type": "heading",
     "level": 3,
     "metadata": {},
     "source": [
      "Creat input files and run model"
     ]
    },
    {
     "cell_type": "markdown",
     "metadata": {},
     "source": [
      "Define the experiment name"
     ]
    },
    {
     "cell_type": "code",
     "collapsed": false,
     "input": [
      "exp = \"v_anom.pos\""
     ],
     "language": "python",
     "metadata": {},
     "outputs": [],
     "prompt_number": 43
    },
    {
     "cell_type": "markdown",
     "metadata": {},
     "source": [
      "Create the input files.\n",
      "\n",
      "Copy them to main directory."
     ]
    },
    {
     "cell_type": "code",
     "collapsed": false,
     "input": [
      "print exp"
     ],
     "language": "python",
     "metadata": {},
     "outputs": [
      {
       "output_type": "stream",
       "stream": "stdout",
       "text": [
        "v_anom.pos\n"
       ]
      }
     ],
     "prompt_number": 38
    },
    {
     "cell_type": "code",
     "collapsed": false,
     "input": [
      "import write_input as wi\n",
      "\n",
      "if exp == \"v_anom.pos\":\n",
      "    wi.write_v_anom()\n"
     ],
     "language": "python",
     "metadata": {},
     "outputs": [
      {
       "output_type": "stream",
       "stream": "stdout",
       "text": [
        "meridional.wind and anomalous wind loaded\n",
        "Writing meridional.wind.v_anom.bin and meridional.wind.v_anom.nc and anomalous wind loaded"
       ]
      },
      {
       "output_type": "stream",
       "stream": "stdout",
       "text": [
        "\n"
       ]
      }
     ],
     "prompt_number": 54
    },
    {
     "cell_type": "code",
     "collapsed": false,
     "input": [
      "import shutil as sh\n",
      "\n",
      "main_dir = '/home/nicholat/project/greb/'\n",
      "input_dir = main_dir + 'input_files/'\n",
      "\n",
      "if exp == 'v_anom.pos':\n",
      "    sh.copyfile(input_dir+'meridional.wind.v_anom.pos.bin',main_dir+'meridional.wind')"
     ],
     "language": "python",
     "metadata": {},
     "outputs": [],
     "prompt_number": 60
    },
    {
     "cell_type": "markdown",
     "metadata": {},
     "source": [
      "Run the model"
     ]
    },
    {
     "cell_type": "code",
     "collapsed": false,
     "input": [
      "%%bash\n",
      "cat namelist"
     ],
     "language": "python",
     "metadata": {},
     "outputs": [
      {
       "output_type": "stream",
       "stream": "stdout",
       "text": [
        "&NUMERICS\n",
        "time_flux = 5  ! length of flux corrections run [yrs]\n",
        "time_ctrl = 5  ! length of control run [yrs\n",
        "time_scnr = 5  ! length of scenariorun [yrs\n",
        "/\n",
        "&PHYSICS\n",
        "log_exp = 10 ! complete GREB model; 2xCO2 forcing\n",
        "/\n"
       ]
      }
     ],
     "prompt_number": 61
    },
    {
     "cell_type": "code",
     "collapsed": false,
     "input": [
      "%%bash\n",
      "./compile_run_greb.sh"
     ],
     "language": "python",
     "metadata": {},
     "outputs": [
      {
       "output_type": "stream",
       "stream": "stdout",
       "text": [
        " % start climate shell\n",
        " % diagonstic point lat/lon:  30. 172.5\n",
        " % time flux/control/scenario:  5 5 5\n",
        " % flux correction  340.\n",
        " 0. 4.7705994 26.786957 4.8493347\n",
        " 0. 4.7705994 26.786957 4.8493347\n",
        " 0. 4.7705994 26.786957 4.8493347\n",
        " 0. 4.7705994 26.786957 4.8493347\n",
        " 0. 4.7705994 26.786957 4.8493347\n",
        " % CONTROL RUN CO2= 340.   time= 5 yr\n",
        " 1970. 4.7705994 26.786957 4.8493347\n",
        " 1970. 4.7705994 26.786957 4.8493347\n",
        " 1970. 4.7705994 26.786957 4.8493347\n",
        " 1970. 4.7705994 26.786957 4.8493347\n",
        " 1970. 4.7705994 26.786957 4.8493347\n",
        " % SCENARIO EXP:  10   time= 5 yr\n",
        " 1940. 4.7705994 26.786957 4.8493347\n",
        " 1941. 4.7705994 26.786957 4.8493347\n",
        " 1942. 4.7705994 26.786957 4.8493347\n",
        " 1943. 4.7705994 26.786957 4.8493347\n",
        " 1944. 4.7705994 26.786957 4.8493347\n"
       ]
      }
     ],
     "prompt_number": 62
    },
    {
     "cell_type": "code",
     "collapsed": false,
     "input": [
      "bin_dir = main_dir+'bin_files/'\n",
      "sh.copyfile(main_dir+'control',bin_dir+'control.'+exp+'.bin')\n",
      "sh.copyfile(main_dir+'scenario',bin_dir+'scenario.'+exp+'.bin')"
     ],
     "language": "python",
     "metadata": {},
     "outputs": [],
     "prompt_number": 73
    },
    {
     "cell_type": "code",
     "collapsed": false,
     "input": [
      "ls bin_files/"
     ],
     "language": "python",
     "metadata": {},
     "outputs": [
      {
       "output_type": "stream",
       "stream": "stdout",
       "text": [
        "control.v_anom.pos.bin  scenario.vanom.bin  scenario.v_anom.pos.bin\r\n"
       ]
      }
     ],
     "prompt_number": 72
    },
    {
     "cell_type": "heading",
     "level": 3,
     "metadata": {},
     "source": [
      "Begin analysis of output"
     ]
    },
    {
     "cell_type": "markdown",
     "metadata": {},
     "source": [
      "Convert binary files to netcdf"
     ]
    },
    {
     "cell_type": "code",
     "collapsed": false,
     "input": [],
     "language": "python",
     "metadata": {},
     "outputs": [
      {
       "output_type": "stream",
       "stream": "stdout",
       "text": [
        "a1b.bin                 \u001b[0m\u001b[01;32mgreb.shell.web-public.f90\u001b[0m*  nc_greb.py            solar.radiation\r\n",
        "\u001b[01;34mbin_files\u001b[0m/              \u001b[01;32mgreb.web-public.com\u001b[0m*        ocean.mld             sst1k.bin\r\n",
        "clim.bin                \u001b[01;31mgreb.web-public.tar\u001b[0m         ofile                 temp\r\n",
        "cloud.cover             \u001b[01;31mgreb.web-public.tar.zip\u001b[0m     outfile.bin           testbook.ipynb\r\n",
        "compile_notes.txt       \u001b[01;32mgreb.x\u001b[0m*                     \u001b[01;32moutput.sh\u001b[0m*            topography\r\n",
        "\u001b[01;32mcompile_run_greb.sh\u001b[0m*    \u001b[01;34minput_files\u001b[0m/                output_to_nc.py       tsurf\r\n",
        "control                 input_greb.py               plot_greb_orig.py     vapor\r\n",
        "control.bin             input_to_nc.py              plot_greb.py          write_input.py\r\n",
        "control.clim.bin        log_exp.txt                 pres_temp_4D_wr.f90   write_input.pyc\r\n",
        "control.ctl             meridional.wind             read.me.txt           zfile.bin\r\n",
        "exp5.bin                mo_diagnostics.mod          scenario              zonal.wind\r\n",
        "glacier.masks           mo_numerics.mod             scenario.ctl          ztest.bin\r\n",
        "greb_experiments.ipynb  mo_physics.mod              sfc_pres_temp_rd.f90  zwtest.bin\r\n",
        "\u001b[01;32mgreb.model.f90\u001b[0m*         namelist                    simple_xy_wr.f90\r\n",
        "greb.model.o            \u001b[01;34mncfiles\u001b[0m/                    soil.moisture\r\n"
       ]
      }
     ],
     "prompt_number": 74
    }
   ],
   "metadata": {}
  }
 ]
}