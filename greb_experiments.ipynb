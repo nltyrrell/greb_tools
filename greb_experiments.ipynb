{
 "metadata": {
  "name": "",
  "signature": "sha256:1f864f58cd4316498ab680b4c05ffa12c3f4112a4cf9175cc912a94e84956ef5"
 },
 "nbformat": 3,
 "nbformat_minor": 0,
 "worksheets": [
  {
   "cells": [
    {
     "cell_type": "code",
     "collapsed": false,
     "input": [
      "%load_ext autoreload\n",
      "%autoreload 2"
     ],
     "language": "python",
     "metadata": {},
     "outputs": [],
     "prompt_number": 4
    },
    {
     "cell_type": "code",
     "collapsed": false,
     "input": [
      "import numpy as np\n",
      "import iris\n",
      "import iris.quickplot as qplt\n",
      "import iris.plot as iplt\n",
      "import matplotlib.pyplot as plt\n",
      "import mycmaps as mc\n",
      "import greb_tools as gt\n",
      "%matplotlib inline"
     ],
     "language": "python",
     "metadata": {},
     "outputs": [],
     "prompt_number": 5
    },
    {
     "cell_type": "code",
     "collapsed": false,
     "input": [
      "%whos"
     ],
     "language": "python",
     "metadata": {},
     "outputs": [
      {
       "output_type": "stream",
       "stream": "stdout",
       "text": [
        "Variable         Type      Data/Info\n",
        "------------------------------------\n",
        "filename         str       /home/nicholat/project/gr<...>nput/meridional.wind.anom\n",
        "glob             module    <module 'glob' from '/usr<...>/lib/python2.7/glob.pyc'>\n",
        "gt               module    <module 'greb_tools' from 'greb_tools.pyc'>\n",
        "input_dir        str       /home/nicholat/project/greb/input_files/\n",
        "iplt             module    <module 'iris.plot' from <...>-packages/iris/plot.pyc'>\n",
        "iris             module    <module 'iris' from '/usr<...>kages/iris/__init__.pyc'>\n",
        "main_dir         str       /home/nicholat/project/greb/\n",
        "mc               module    <module 'mycmaps' from '/<...>lat/climate/mycmaps.pyc'>\n",
        "np               module    <module 'numpy' from '/us<...>ages/numpy/__init__.pyc'>\n",
        "orig_input_dir   str       /home/nicholat/project/greb/orig_input/\n",
        "os               module    <module 'os' from '/usr/lib/python2.7/os.pyc'>\n",
        "plt              module    <module 'matplotlib.pyplo<...>s/matplotlib/pyplot.pyc'>\n",
        "qplt             module    <module 'iris.quickplot' <...>kages/iris/quickplot.py'>\n",
        "sh               module    <module 'shutil' from '/u<...>ib/python2.7/shutil.pyc'>\n"
       ]
      }
     ],
     "prompt_number": 6
    },
    {
     "cell_type": "heading",
     "level": 2,
     "metadata": {},
     "source": [
      "Experiments with the GREB Model"
     ]
    },
    {
     "cell_type": "markdown",
     "metadata": {},
     "source": [
      "Initial experiments\n",
      "- Wind anomaly: \n",
      "    - v_anom.pos/neg\n",
      "    - u_anom.pos/neg\n",
      "    - u_vanom.pos/neg\n",
      "- Cloud anomaly: \n",
      "    - cld.inc\n",
      "    - cld.dec\n",
      "- Soil Moisture anomaly: \n",
      "    - smc.wet\n",
      "    - smc.dry\n",
      "- SST anomaly"
     ]
    },
    {
     "cell_type": "heading",
     "level": 3,
     "metadata": {},
     "source": [
      "Creat input files and run model"
     ]
    },
    {
     "cell_type": "markdown",
     "metadata": {},
     "source": [
      "Define the experiment name"
     ]
    },
    {
     "cell_type": "code",
     "collapsed": false,
     "input": [
      "exp = \"smc.pos\"\n",
      "# exp = \"clim\"\n",
      "# exp = \"u_anom.pos\"\n",
      "# exp = \"uv_anom.pos\"\n",
      "# exp = \"v_anom.pos\"\n",
      "# exp = \"icealb\"\n",
      "print exp"
     ],
     "language": "python",
     "metadata": {},
     "outputs": [
      {
       "output_type": "stream",
       "stream": "stdout",
       "text": [
        "smc.pos\n"
       ]
      }
     ],
     "prompt_number": 54
    },
    {
     "cell_type": "heading",
     "level": 3,
     "metadata": {},
     "source": [
      "Create the input files."
     ]
    },
    {
     "cell_type": "code",
     "collapsed": false,
     "input": [
      "import write_input as wi\n",
      "print exp\n",
      "if exp == \"v_anom.pos\":\n",
      "    wi.write_v_anom(\"pos\")\n",
      "if exp == \"uv_anom.pos\":\n",
      "    wi.write_v_anom(\"pos\")\n",
      "    wi.write_u_anom(\"pos\")   \n",
      "if exp == \"u_anom.pos\":\n",
      "    wi.write_u_anom(\"pos\")\n",
      "if exp == \"smc.pos\":\n",
      "    wi.write_smc(\"pos\")\n",
      "if exp == \"smc.neg\":\n",
      "    wi.write_smc(\"neg\")\n",
      "if exp == \"clim\":\n",
      "    print \"nothing needs doin'\""
     ],
     "language": "python",
     "metadata": {},
     "outputs": [
      {
       "output_type": "stream",
       "stream": "stdout",
       "text": [
        "smc.pos\n",
        "Soil moisture loaded\n",
        "Positive anomaly\n",
        "Writing soil.moisture.smc.anom/nc\n"
       ]
      }
     ],
     "prompt_number": 55
    },
    {
     "cell_type": "heading",
     "level": 3,
     "metadata": {},
     "source": [
      "Copy the binary input files to the main directory"
     ]
    },
    {
     "cell_type": "code",
     "collapsed": false,
     "input": [
      "import shutil as sh\n",
      "import glob\n",
      "import os\n",
      "import re\n",
      "\n",
      "main_dir = '/home/nicholat/project/greb/'\n",
      "input_dir = main_dir + 'input_files/'\n",
      "orig_input_dir = main_dir + 'orig_input/'\n",
      "\n",
      "# copy the original input files into the main folder\n",
      "for filename in glob.glob(os.path.join(orig_input_dir, '*')):\n",
      "    sh.copy(filename, main_dir)\n",
      "print \"Original input files copied to main dir\"\n",
      "print \"Anom placeholder bin files copied to main dir\"\n",
      "\n",
      "if exp == 'v_anom.pos':\n",
      "    sh.copyfile(input_dir+'meridional.wind.anom',\n",
      "                main_dir+'meridional.wind.anom')\n",
      "    print \"Anomalous meridional wind input copied to main dir\"\n",
      "    \n",
      "if exp == 'u_anom.pos':\n",
      "    sh.copyfile(input_dir+'zonal.wind.anom',\n",
      "                main_dir+'zonal.wind.anom')\n",
      "    print \"Anomalous zonal wind input copied to main dir\"\n",
      "    \n",
      "if exp == 'uv_anom.pos':\n",
      "    sh.copyfile(input_dir+'zonal.wind.anom',\n",
      "                main_dir+'zonal.wind.anom')\n",
      "    print \"Anomalous zonal wind input copied to main dir\"\n",
      "    sh.copyfile(input_dir+'meridional.wind.anom',\n",
      "                main_dir+'meridional.wind.anom')\n",
      "    print \"Anomalous meridional wind input copied to main dir\"\n",
      "\n",
      "\n",
      "if exp == 'smc.pos':\n",
      "    sh.copyfile(input_dir+'soil.moisture.smc.anom',\n",
      "                main_dir+'soil.moisture.anom')\n",
      "    with open('namelist','r') as f_in:\n",
      "        lines = f_in.readlines()\n",
      "        # do the replacement in the ith line.\n",
      "        lines[7] = re.sub('wnd','smc',lines[7])\n",
      "        print lines[7]\n",
      "    with open('namelist','w') as f_out:\n",
      "        f_out.writelines(lines)\n",
      "\n",
      "    print \"Anomalous soil moisture input copied to main dir\"\n",
      "        "
     ],
     "language": "python",
     "metadata": {},
     "outputs": [
      {
       "output_type": "stream",
       "stream": "stdout",
       "text": [
        "Original input files copied to main dir\n",
        "Anom placeholder bin files copied to main dir\n",
        "anom = 'smc' ! character(len3) choose anomaly (smc (wind), smc, cld)\n",
        "\n",
        "Anomalous soil moisture input copied to main dir\n"
       ]
      }
     ],
     "prompt_number": 59
    },
    {
     "cell_type": "heading",
     "level": 3,
     "metadata": {},
     "source": [
      "Check Input"
     ]
    },
    {
     "cell_type": "code",
     "collapsed": false,
     "input": [
      "anom_list = gt.read_anom_bin()\n",
      "fig = plt.figure(figsize=(5,5))\n",
      "plt.subplot(3,2,1)\n",
      "iplt.pcolormesh(anom_list[0][:,:,-1])\n",
      "plt.title(anom_list[0].long_name)\n",
      "plt.gca().coastlines()\n",
      "plt.subplot(3,2,2)\n",
      "iplt.pcolormesh(anom_list[1][:,:,-1])\n",
      "plt.title(anom_list[1].long_name)\n",
      "plt.gca().coastlines()\n",
      "plt.subplot(3,2,3)\n",
      "iplt.pcolormesh(anom_list[2][:,:,-1])\n",
      "plt.title(anom_list[2].long_name)\n",
      "plt.gca().coastlines()\n",
      "plt.subplot(3,2,4)\n",
      "iplt.pcolormesh(anom_list[3][:,:,-1])\n",
      "plt.title(anom_list[3].long_name)\n",
      "plt.gca().coastlines()"
     ],
     "language": "python",
     "metadata": {},
     "outputs": [
      {
       "metadata": {},
       "output_type": "pyout",
       "prompt_number": 60,
       "text": [
        "<cartopy.mpl.feature_artist.FeatureArtist at 0x7f56a4e5fa50>"
       ]
      },
      {
       "metadata": {},
       "output_type": "display_data",
       "png": "[encoded data removed]",
       "text": [
        "<matplotlib.figure.Figure at 0x7f56a50c0450>"
       ]
      }
     ],
     "prompt_number": 60
    },
    {
     "cell_type": "heading",
     "level": 3,
     "metadata": {},
     "source": [
      "Run the model"
     ]
    },
    {
     "cell_type": "code",
     "collapsed": false,
     "input": [
      "%%bash\n",
      "cat namelist"
     ],
     "language": "python",
     "metadata": {},
     "outputs": [
      {
       "output_type": "stream",
       "stream": "stdout",
       "text": [
        "&NUMERICS\n",
        "time_flux = 3  ! length of flux corrections run [yrs]\n",
        "time_ctrl = 5  ! length of control run [yrs\n",
        "time_scnr = 100  ! length of scenariorun [yrs\n",
        "/\n",
        "&PHYSICS\n",
        "log_exp = 10 ! complete GREB model; 2xCO2 forcing\n",
        "anom = 'smc' ! character(len3) choose anomaly (smc (wind), smc, cld)\n",
        "/\n"
       ]
      }
     ],
     "prompt_number": 61
    },
    {
     "cell_type": "heading",
     "level": 3,
     "metadata": {},
     "source": [
      "Run GREB model"
     ]
    },
    {
     "cell_type": "code",
     "collapsed": false,
     "input": [
      "%%bash\n",
      "./compile_run_greb.sh"
     ],
     "language": "python",
     "metadata": {},
     "outputs": [
      {
       "output_type": "stream",
       "stream": "stdout",
       "text": [
        " % start climate shell\n",
        " % diagonstic point lat/lon:    30.0000000       172.500000    \n",
        " % time flux/control/scenario:            3           5         100\n",
        " % flux correction    340.000000    \n",
        "   0.00000000       4.77062988       26.7869568       4.84933472    \n",
        "   0.00000000       4.77062988       26.7869568       4.84933472    \n",
        "   0.00000000       4.77062988       26.7869568       4.84933472    \n",
        " % CONTROL RUN CO2=   340.000000       time=           5 yr\n",
        "   1970.00000       4.77069092       26.7869873       4.84936523    \n",
        "   1970.00000       4.77069092       26.7869873       4.84936523    \n",
        "   1970.00000       4.77069092       26.7869873       4.84936523    \n",
        "   1970.00000       4.77075195       26.7870178       4.84936523    \n",
        "   1970.00000       4.77069092       26.7870483       4.84939575    \n",
        " % SCENARIO EXP:           10   time=         100 yr\n",
        " anom = smc\n",
        "   1940.00000       4.77490234       26.7825012       4.92932129    \n",
        "   1941.00000       4.77642822       26.7749023       4.96804810    \n",
        "   1942.00000       4.77569580       26.7705383       4.97570801    \n",
        "   1943.00000       4.77481079       26.7670593       4.98028564    \n",
        "   1944.00000       4.77392578       26.7640686       4.98364258    \n",
        "   1945.00000       4.77301025       26.7612915       4.98593140    \n",
        "   1946.00000       4.77206421       26.7588501       4.98754883    \n",
        "   1947.00000       4.77120972       26.7565918       4.98873901    \n",
        "   1948.00000       4.77032471       26.7548218       4.98968506    \n",
        "   1949.00000       4.76947021       26.7530823       4.99035645    \n",
        "   1950.00000       4.76861572       26.7514343       4.99087524    \n",
        "   1951.00000       4.76788330       26.7500916       4.99118042    \n",
        "   1952.00000       4.76715088       26.7488708       4.99133301    \n",
        "   1953.00000       4.76641846       26.7477112       4.99142456    \n",
        "   1954.00000       4.76571655       26.7466431       4.99145508    \n",
        "   1955.00000       4.76510620       26.7456970       4.99145508    \n",
        "   1956.00000       4.76446533       26.7448425       4.99139404    \n",
        "   1957.00000       4.76397705       26.7440491       4.99127197    \n",
        "   1958.00000       4.76339722       26.7434082       4.99111938    \n",
        "   1959.00000       4.76287842       26.7428589       4.99099731    \n",
        "   1960.00000       4.76242065       26.7424011       4.99084473    \n",
        "   1961.00000       4.76190186       26.7419128       4.99075317    \n",
        "   1962.00000       4.76153564       26.7414856       4.99057007    \n",
        "   1963.00000       4.76107788       26.7410889       4.99047852    \n",
        "   1964.00000       4.76071167       26.7406921       4.99032593    \n",
        "   1965.00000       4.76031494       26.7402954       4.99017334    \n",
        "   1966.00000       4.75994873       26.7399597       4.99005127    \n",
        "   1967.00000       4.75967407       26.7396851       4.98999023    \n",
        "   1968.00000       4.75933838       26.7395325       4.98989868    \n",
        "   1969.00000       4.75906372       26.7392883       4.98974609    \n",
        "   1970.00000       4.75878906       26.7391052       4.98968506    \n",
        "   1971.00000       4.75857544       26.7389526       4.98962402    \n",
        "   1972.00000       4.75836182       26.7387390       4.98947144    \n",
        "   1973.00000       4.75808716       26.7385559       4.98941040    \n",
        "   1974.00000       4.75787354       26.7384033       4.98934937    \n",
        "   1975.00000       4.75769043       26.7382202       4.98928833    \n",
        "   1976.00000       4.75741577       26.7380981       4.98925781    \n",
        "   1977.00000       4.75723267       26.7378845       4.98916626    \n",
        "   1978.00000       4.75708008       26.7378235       4.98910522    \n",
        "   1979.00000       4.75689697       26.7377319       4.98901367    \n",
        "   1980.00000       4.75674438       26.7375793       4.98895264    \n",
        "   1981.00000       4.75662231       26.7374573       4.98889160    \n",
        "   1982.00000       4.75646973       26.7373962       4.98886108    \n",
        "   1983.00000       4.75634766       26.7373657       4.98880005    \n",
        "   1984.00000       4.75616455       26.7373047       4.98873901    \n",
        "   1985.00000       4.75607300       26.7372437       4.98867798    \n",
        "   1986.00000       4.75598145       26.7371216       4.98864746    \n",
        "   1987.00000       4.75582886       26.7370300       4.98858643    \n",
        "   1988.00000       4.75573730       26.7370300       4.98849487    \n",
        "   1989.00000       4.75567627       26.7369690       4.98846436    \n",
        "   1990.00000       4.75555420       26.7369080       4.98840332    \n",
        "   1991.00000       4.75546265       26.7368774       4.98840332    \n",
        "   1992.00000       4.75543213       26.7368164       4.98834229    \n",
        "   1993.00000       4.75537109       26.7367554       4.98831177    \n",
        "   1994.00000       4.75527954       26.7366638       4.98825073    \n",
        "   1995.00000       4.75518799       26.7366333       4.98822021    \n",
        "   1996.00000       4.75512695       26.7366028       4.98818970    \n",
        "   1997.00000       4.75503540       26.7365417       4.98815918    \n",
        "   1998.00000       4.75500488       26.7364807       4.98815918    \n",
        "   1999.00000       4.75494385       26.7364197       4.98815918    \n",
        "   2000.00000       4.75488281       26.7363892       4.98812866    \n",
        "   2001.00000       4.75488281       26.7363281       4.98809814    \n",
        "   2002.00000       4.75482178       26.7362976       4.98809814    \n",
        "   2003.00000       4.75479126       26.7362671       4.98806763    \n",
        "   2004.00000       4.75473022       26.7362671       4.98803711    \n",
        "   2005.00000       4.75469971       26.7362366       4.98800659    \n",
        "   2006.00000       4.75466919       26.7362366       4.98800659    \n",
        "   2007.00000       4.75463867       26.7362061       4.98797607    \n",
        "   2008.00000       4.75460815       26.7361755       4.98797607    \n",
        "   2009.00000       4.75457764       26.7361755       4.98794556    \n",
        "   2010.00000       4.75454712       26.7361450       4.98791504    \n",
        "   2011.00000       4.75451660       26.7361450       4.98791504    \n",
        "   2012.00000       4.75448608       26.7361145       4.98791504    \n",
        "   2013.00000       4.75445557       26.7361145       4.98791504    \n",
        "   2014.00000       4.75442505       26.7361145       4.98791504    \n",
        "   2015.00000       4.75439453       26.7361145       4.98791504    \n",
        "   2016.00000       4.75436401       26.7361145       4.98791504    \n",
        "   2017.00000       4.75436401       26.7361145       4.98788452    \n",
        "   2018.00000       4.75433350       26.7360535       4.98788452    \n",
        "   2019.00000       4.75433350       26.7360229       4.98788452    \n",
        "   2020.00000       4.75433350       26.7360229       4.98788452    \n",
        "   2021.00000       4.75430298       26.7360229       4.98782349    \n",
        "   2022.00000       4.75427246       26.7360229       4.98782349    \n",
        "   2023.00000       4.75424194       26.7360229       4.98788452    \n",
        "   2024.00000       4.75424194       26.7360229       4.98782349    \n",
        "   2025.00000       4.75424194       26.7360229       4.98782349    \n",
        "   2026.00000       4.75421143       26.7360229       4.98782349    \n",
        "   2027.00000       4.75421143       26.7360229       4.98782349    \n",
        "   2028.00000       4.75421143       26.7360229       4.98782349    \n",
        "   2029.00000       4.75421143       26.7360229       4.98782349    \n",
        "   2030.00000       4.75418091       26.7359924       4.98782349    \n",
        "   2031.00000       4.75418091       26.7359924       4.98782349    \n",
        "   2032.00000       4.75415039       26.7359924       4.98782349    \n",
        "   2033.00000       4.75411987       26.7359924       4.98782349    \n",
        "   2034.00000       4.75411987       26.7359619       4.98782349    \n",
        "   2035.00000       4.75411987       26.7359619       4.98782349    \n",
        "   2036.00000       4.75408936       26.7359619       4.98782349    \n",
        "   2037.00000       4.75408936       26.7359619       4.98782349    \n",
        "   2038.00000       4.75408936       26.7359619       4.98782349    \n",
        "   2039.00000       4.75408936       26.7359619       4.98782349    \n"
       ]
      }
     ],
     "prompt_number": 62
    },
    {
     "cell_type": "heading",
     "level": 3,
     "metadata": {},
     "source": [
      "Copy output to bin_dir and rename"
     ]
    },
    {
     "cell_type": "code",
     "collapsed": false,
     "input": [
      "# Copy the output files to bin_files dir and rename\n",
      "bin_dir = main_dir + 'bin_files/'\n",
      "sh.copyfile(main_dir + 'control',bin_dir + 'control.' + exp + '.bin')\n",
      "sh.copyfile(main_dir + 'scenario',bin_dir + 'scenario.' + exp + '.bin')"
     ],
     "language": "python",
     "metadata": {},
     "outputs": [],
     "prompt_number": 63
    },
    {
     "cell_type": "code",
     "collapsed": false,
     "input": [
      "ls bin_files/"
     ],
     "language": "python",
     "metadata": {},
     "outputs": [
      {
       "output_type": "stream",
       "stream": "stdout",
       "text": [
        "control.clim.bin         control.v_anom.pos.bin     scenario.u_anom.pos.bin\r\n",
        "control.icealb.bin       control.vwind_1msanom.bin  scenario.uv_anom.pos.bin\r\n",
        "control.smc.dry.bin      scenario.clim.bin          scenario.vanom.bin\r\n",
        "control.smc.pos.bin      scenario.icealb.bin        scenario.v_anom.pos.bin\r\n",
        "control.test.bin         scenario.smc.dry.bin       scenario.vwind_1msanom.bin\r\n",
        "control.u_anom.pos.bin   scenario.smc.pos.bin\r\n",
        "control.uv_anom.pos.bin  scenario.test.bin\r\n"
       ]
      }
     ],
     "prompt_number": 64
    },
    {
     "cell_type": "heading",
     "level": 3,
     "metadata": {},
     "source": [
      "Convert output binary files to netcdf"
     ]
    },
    {
     "cell_type": "code",
     "collapsed": false,
     "input": [
      "import output_to_nc as b2n\n",
      "\n",
      "cube_list = b2n.write_exp(exp)"
     ],
     "language": "python",
     "metadata": {},
     "outputs": [
      {
       "output_type": "stream",
       "stream": "stdout",
       "text": [
        "./bin_files/scenario.smc.pos.bin\n",
        "tdim = 1200\n",
        "Save cube as ./ncfiles/t_surf.smc.pos.nc"
       ]
      },
      {
       "output_type": "stream",
       "stream": "stdout",
       "text": [
        "\n",
        "tdim = 1200\n",
        "Save cube as ./ncfiles/t_atmos.smc.pos.nc"
       ]
      },
      {
       "output_type": "stream",
       "stream": "stdout",
       "text": [
        "\n",
        "tdim = 1200\n",
        "Save cube as ./ncfiles/t_ocean.smc.pos.nc"
       ]
      },
      {
       "output_type": "stream",
       "stream": "stdout",
       "text": [
        "\n",
        "tdim = 1200\n",
        "Save cube as ./ncfiles/vapour.smc.pos.nc"
       ]
      },
      {
       "output_type": "stream",
       "stream": "stdout",
       "text": [
        "\n",
        "tdim = 1200\n",
        "Save cube as ./ncfiles/albedo.smc.pos.nc"
       ]
      },
      {
       "output_type": "stream",
       "stream": "stdout",
       "text": [
        "\n"
       ]
      }
     ],
     "prompt_number": 65
    },
    {
     "cell_type": "heading",
     "level": 3,
     "metadata": {},
     "source": [
      "Check Output"
     ]
    },
    {
     "cell_type": "code",
     "collapsed": false,
     "input": [
      "nc_dir = main_dir+'ncfiles/'\n",
      "t_surf_clim = iris.load_cube(nc_dir + '/t_surf.clim.nc')\n",
      "t_surf = iris.load_cube(nc_dir + '/t_surf.' + exp + '.nc')\n",
      "\n",
      "gt.try_cube(t_surf_clim)\n",
      "gt.try_cube(t_surf)\n",
      "\n",
      "# take the mean of last year \n",
      "t_surf_clim_mean = t_surf_clim[:,:,-13:-1].collapsed('time',iris.analysis.MEAN)\n",
      "t_surf_mean = t_surf[:,:,-13:-1].collapsed('time',iris.analysis.MEAN)\n",
      "dif = t_surf_mean - t_surf_clim_mean\n",
      "qplt.pcmeshclf(dif,vmin=-1,vmax=1,cmap=mc.jetwhite())\n",
      "\n",
      "#fig = plt.figure(figsize=(12,8))\n",
      "#plt.subplot(2,2,1)\n",
      "#qplt.pcmeshclf(t_surf_clim_mean,hold=True,cmap=mc.jetwhite(),vmax = (273.15+30), vmin = (273.15-30))\n",
      "#plt.subplot(2,2,2)\n",
      "#qplt.pcmeshclf(t_surf_mean,hold=True,cmap=mc.jetwhite(),vmax = (273.15+30), vmin = (273.15-30))\n"
     ],
     "language": "python",
     "metadata": {},
     "outputs": [
      {
       "metadata": {},
       "output_type": "pyout",
       "prompt_number": 68,
       "text": [
        "<matplotlib.collections.QuadMesh at 0x7f56c1bcdbd0>"
       ]
      },
      {
       "metadata": {},
       "output_type": "display_data",
       "png": "[encoded data removed]",
       "text": [
        "<matplotlib.figure.Figure at 0x7f56a4b33750>"
       ]
      }
     ],
     "prompt_number": 68
    },
    {
     "cell_type": "code",
     "collapsed": false,
     "input": [
      "print t_surf_clim_mean\n",
      "print t_surf_mean\n",
      "qplt.pcmeshclf(t_surf_mean-t_surf_clim_mean)"
     ],
     "language": "python",
     "metadata": {},
     "outputs": [
      {
       "output_type": "stream",
       "stream": "stdout",
       "text": [
        "surface_temperature / (K)           (latitude: 48; longitude: 96)\n",
        "     Dimension coordinates:\n",
        "          latitude                           x              -\n",
        "          longitude                          -              x\n",
        "     Scalar coordinates:\n",
        "          time: 1942-06-30 00:00:00, bound=(1940-01-15 00:00:00, 1944-12-15 00:00:00)\n",
        "     Attributes:\n",
        "          Conventions: CF-1.5\n",
        "          source: Data from GREB model\n",
        "     Cell methods:\n",
        "          mean: time\n",
        "surface_temperature / (K)           (latitude: 48; longitude: 96)\n",
        "     Dimension coordinates:\n",
        "          latitude                           x              -\n",
        "          longitude                          -              x\n",
        "     Scalar coordinates:\n",
        "          time: 1989-12-30 00:00:00, bound=(1940-01-15 00:00:00, 2039-12-15 00:00:00)\n",
        "     Attributes:\n",
        "          source: Data from GREB model\n",
        "     Cell methods:\n",
        "          mean: time\n"
       ]
      },
      {
       "ename": "ValueError",
       "evalue": "This operation cannot be performed as there are differing coordinates (latitude, longitude) remaining which cannot be ignored.",
       "output_type": "pyerr",
       "traceback": [
        "\u001b[1;31m---------------------------------------------------------------------------\u001b[0m\n\u001b[1;31mValueError\u001b[0m                                Traceback (most recent call last)",
        "\u001b[1;32m<ipython-input-17-6f4eb58c9285>\u001b[0m in \u001b[0;36m<module>\u001b[1;34m()\u001b[0m\n\u001b[0;32m      1\u001b[0m \u001b[1;32mprint\u001b[0m \u001b[0mt_surf_clim_mean\u001b[0m\u001b[1;33m\u001b[0m\u001b[0m\n\u001b[0;32m      2\u001b[0m \u001b[1;32mprint\u001b[0m \u001b[0mt_surf_mean\u001b[0m\u001b[1;33m\u001b[0m\u001b[0m\n\u001b[1;32m----> 3\u001b[1;33m \u001b[0mqplt\u001b[0m\u001b[1;33m.\u001b[0m\u001b[0mpcmeshclf\u001b[0m\u001b[1;33m(\u001b[0m\u001b[0mt_surf_mean\u001b[0m\u001b[1;33m-\u001b[0m\u001b[0mt_surf_clim_mean\u001b[0m\u001b[1;33m)\u001b[0m\u001b[1;33m\u001b[0m\u001b[0m\n\u001b[0m",
        "\u001b[1;32m/usr/local/lib/python2.7/dist-packages/iris/cube.pyc\u001b[0m in \u001b[0;36m__sub__\u001b[1;34m(self, other)\u001b[0m\n\u001b[0;32m   2648\u001b[0m \u001b[1;33m\u001b[0m\u001b[0m\n\u001b[0;32m   2649\u001b[0m     \u001b[1;32mdef\u001b[0m \u001b[0m__sub__\u001b[0m\u001b[1;33m(\u001b[0m\u001b[0mself\u001b[0m\u001b[1;33m,\u001b[0m \u001b[0mother\u001b[0m\u001b[1;33m)\u001b[0m\u001b[1;33m:\u001b[0m\u001b[1;33m\u001b[0m\u001b[0m\n\u001b[1;32m-> 2650\u001b[1;33m         \u001b[1;32mreturn\u001b[0m \u001b[0miris\u001b[0m\u001b[1;33m.\u001b[0m\u001b[0manalysis\u001b[0m\u001b[1;33m.\u001b[0m\u001b[0mmaths\u001b[0m\u001b[1;33m.\u001b[0m\u001b[0msubtract\u001b[0m\u001b[1;33m(\u001b[0m\u001b[0mself\u001b[0m\u001b[1;33m,\u001b[0m \u001b[0mother\u001b[0m\u001b[1;33m,\u001b[0m \u001b[0mignore\u001b[0m\u001b[1;33m=\u001b[0m\u001b[0mTrue\u001b[0m\u001b[1;33m)\u001b[0m\u001b[1;33m\u001b[0m\u001b[0m\n\u001b[0m\u001b[0;32m   2651\u001b[0m \u001b[1;33m\u001b[0m\u001b[0m\n\u001b[0;32m   2652\u001b[0m     \u001b[0m__mul__\u001b[0m \u001b[1;33m=\u001b[0m \u001b[0miris\u001b[0m\u001b[1;33m.\u001b[0m\u001b[0manalysis\u001b[0m\u001b[1;33m.\u001b[0m\u001b[0mmaths\u001b[0m\u001b[1;33m.\u001b[0m\u001b[0mmultiply\u001b[0m\u001b[1;33m\u001b[0m\u001b[0m\n",
        "\u001b[1;32m/usr/local/lib/python2.7/dist-packages/iris/analysis/maths.pyc\u001b[0m in \u001b[0;36msubtract\u001b[1;34m(cube, other, dim, ignore, in_place)\u001b[0m\n\u001b[0;32m    200\u001b[0m     \u001b[0mop\u001b[0m \u001b[1;33m=\u001b[0m \u001b[0moperator\u001b[0m\u001b[1;33m.\u001b[0m\u001b[0misub\u001b[0m \u001b[1;32mif\u001b[0m \u001b[0min_place\u001b[0m \u001b[1;32melse\u001b[0m \u001b[0moperator\u001b[0m\u001b[1;33m.\u001b[0m\u001b[0msub\u001b[0m\u001b[1;33m\u001b[0m\u001b[0m\n\u001b[0;32m    201\u001b[0m     return _add_subtract_common(op, 'subtraction', 'subtracted', cube, other,\n\u001b[1;32m--> 202\u001b[1;33m                                 dim=dim, ignore=ignore, in_place=in_place)\n\u001b[0m\u001b[0;32m    203\u001b[0m \u001b[1;33m\u001b[0m\u001b[0m\n\u001b[0;32m    204\u001b[0m \u001b[1;33m\u001b[0m\u001b[0m\n",
        "\u001b[1;32m/usr/local/lib/python2.7/dist-packages/iris/analysis/maths.pyc\u001b[0m in \u001b[0;36m_add_subtract_common\u001b[1;34m(operation_function, operation_noun, operation_past_tense, cube, other, dim, ignore, in_place)\u001b[0m\n\u001b[0;32m    237\u001b[0m                              \u001b[1;34m'which cannot be ignored.'\u001b[0m\u001b[1;33m\u001b[0m\u001b[0m\n\u001b[0;32m    238\u001b[0m                              % ', '.join({coord_grp.name() for coord_grp\n\u001b[1;32m--> 239\u001b[1;33m                                           in bad_coord_grps}))\n\u001b[0m\u001b[0;32m    240\u001b[0m     \u001b[1;32melse\u001b[0m\u001b[1;33m:\u001b[0m\u001b[1;33m\u001b[0m\u001b[0m\n\u001b[0;32m    241\u001b[0m         \u001b[0mcoord_comp\u001b[0m \u001b[1;33m=\u001b[0m \u001b[0mNone\u001b[0m\u001b[1;33m\u001b[0m\u001b[0m\n",
        "\u001b[1;31mValueError\u001b[0m: This operation cannot be performed as there are differing coordinates (latitude, longitude) remaining which cannot be ignored."
       ]
      }
     ],
     "prompt_number": 17
    },
    {
     "cell_type": "code",
     "collapsed": false,
     "input": [],
     "language": "python",
     "metadata": {},
     "outputs": []
    }
   ],
   "metadata": {}
  }
 ]
}