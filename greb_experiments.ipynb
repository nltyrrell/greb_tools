{
 "metadata": {
  "name": "",
  "signature": "sha256:b9a5e6af3cfade91dbef61dbbae91e343f1245841b27ff9524741c7e1510d740"
 },
 "nbformat": 3,
 "nbformat_minor": 0,
 "worksheets": [
  {
   "cells": [
    {
     "cell_type": "heading",
     "level": 2,
     "metadata": {},
     "source": [
      "Experiments with the GREB Model"
     ]
    },
    {
     "cell_type": "markdown",
     "metadata": {},
     "source": [
      "Initial experiments\n",
      "- Wind anomaly: \n",
      "    - v_anom.pos/neg\n",
      "    - u_anom.pos/neg\n",
      "    - u_vanom.pos/neg\n",
      "- Cloud anomaly: \n",
      "    - cld.inc\n",
      "    - cld.dec\n",
      "- Soil Moisture anomaly: \n",
      "    - smc.wet\n",
      "    - smc.dry\n",
      "- SST anomaly"
     ]
    },
    {
     "cell_type": "code",
     "collapsed": false,
     "input": [
      "%load_ext autoreload\n",
      "%autoreload 2"
     ],
     "language": "python",
     "metadata": {},
     "outputs": [
      {
       "output_type": "stream",
       "stream": "stdout",
       "text": [
        "The autoreload extension is already loaded. To reload it, use:\n",
        "  %reload_ext autoreload\n"
       ]
      }
     ],
     "prompt_number": 86
    },
    {
     "cell_type": "code",
     "collapsed": false,
     "input": [
      "import numpy as np\n",
      "import iris\n",
      "import iris.quickplot as qplt\n",
      "import iris.plot as iplt\n",
      "import matplotlib.pyplot as plt\n",
      "import mycmaps as mc\n",
      "import greb_tools as gt\n",
      "%matplotlib inline"
     ],
     "language": "python",
     "metadata": {},
     "outputs": [],
     "prompt_number": 87
    },
    {
     "cell_type": "code",
     "collapsed": false,
     "input": [
      "%whos"
     ],
     "language": "python",
     "metadata": {},
     "outputs": [
      {
       "output_type": "stream",
       "stream": "stdout",
       "text": [
        "Variable           Type        Data/Info\n",
        "----------------------------------------\n",
        "anom_list          CubeList    0: cloud.cover.anom / (1)<...>longitude: 96; time: 730)\n",
        "b2n                module      <module 'output_to_nc' from 'output_to_nc.pyc'>\n",
        "bin_dir            str         /home/nicholat/project/greb/bin_files/\n",
        "cube_list          CubeList    0: surface_temperature / <...>longitude: 96; time: 600)\n",
        "dif                Cube        unknown / (K)            <...>         -              x\n",
        "exp                str         smc.neg\n",
        "f_in               file        <closed file 'namelist', <...>de 'r' at 0x7f56c174da50>\n",
        "f_out              file        <closed file 'namelist', <...>de 'w' at 0x7f56c56c85d0>\n",
        "fig                Figure      Figure(400x400)\n",
        "filename           str         /home/nicholat/project/gr<...>nput/meridional.wind.anom\n",
        "glob               module      <module 'glob' from '/usr<...>/lib/python2.7/glob.pyc'>\n",
        "gt                 module      <module 'greb_tools' from 'greb_tools.pyc'>\n",
        "input_dir          str         /home/nicholat/project/greb/input_files/\n",
        "iplt               module      <module 'iris.plot' from <...>-packages/iris/plot.pyc'>\n",
        "iris               module      <module 'iris' from '/usr<...>kages/iris/__init__.pyc'>\n",
        "lines              list        n=9\n",
        "main_dir           str         /home/nicholat/project/greb/\n",
        "mc                 module      <module 'mycmaps' from '/<...>lat/climate/mycmaps.pyc'>\n",
        "nc_dir             str         /home/nicholat/project/greb/ncfiles/\n",
        "np                 module      <module 'numpy' from '/us<...>ages/numpy/__init__.pyc'>\n",
        "orig_input_dir     str         /home/nicholat/project/greb/orig_input/\n",
        "os                 module      <module 'os' from '/usr/lib/python2.7/os.pyc'>\n",
        "plt                module      <module 'matplotlib.pyplo<...>s/matplotlib/pyplot.pyc'>\n",
        "qplt               module      <module 'iris.quickplot' <...>kages/iris/quickplot.py'>\n",
        "re                 module      <module 're' from '/usr/lib/python2.7/re.pyc'>\n",
        "sh                 module      <module 'shutil' from '/u<...>ib/python2.7/shutil.pyc'>\n",
        "t_surf             Cube        surface_temperature / (K)<...>rce: Data from GREB model\n",
        "t_surf_clim        Cube        surface_temperature / (K)<...>rce: Data from GREB model\n",
        "t_surf_clim_mean   Cube        surface_temperature / (K)<...>ds:\\n          mean: time\n",
        "t_surf_mean        Cube        surface_temperature / (K)<...>ds:\\n          mean: time\n",
        "wi                 module      <module 'write_input' from 'write_input.py'>\n"
       ]
      }
     ],
     "prompt_number": 88
    },
    {
     "cell_type": "heading",
     "level": 3,
     "metadata": {},
     "source": [
      "Creat input files and run model"
     ]
    },
    {
     "cell_type": "markdown",
     "metadata": {},
     "source": [
      "Define the experiment name"
     ]
    },
    {
     "cell_type": "code",
     "collapsed": false,
     "input": [
      "exp = \"cld.pos\"\n",
      "# exp = \"smc.neg\"\n",
      "# exp = \"smc.pos\"\n",
      "# exp = \"clim\"\n",
      "# exp = \"u_anom.pos\"\n",
      "# exp = \"uv_anom.pos\"\n",
      "# exp = \"v_anom.pos\"\n",
      "# exp = \"icealb\"\n",
      "print exp"
     ],
     "language": "python",
     "metadata": {},
     "outputs": [
      {
       "output_type": "stream",
       "stream": "stdout",
       "text": [
        "cld.pos\n"
       ]
      }
     ],
     "prompt_number": 100
    },
    {
     "cell_type": "heading",
     "level": 3,
     "metadata": {},
     "source": [
      "Create the input files."
     ]
    },
    {
     "cell_type": "code",
     "collapsed": false,
     "input": [
      "import write_input as wi\n",
      "print exp\n",
      "if exp == \"v_anom.pos\":\n",
      "    wi.write_v_anom(\"pos\")\n",
      "if exp == \"uv_anom.pos\":\n",
      "    wi.write_v_anom(\"pos\")\n",
      "    wi.write_u_anom(\"pos\")   \n",
      "if exp == \"u_anom.pos\":\n",
      "    wi.write_u_anom(\"pos\")\n",
      "if exp == \"cld.pos\":\n",
      "    wi.write_cld(\"pos\")\n",
      "if exp == \"cld.neg\":\n",
      "    wi.write_cld(\"neg\")\n",
      "if exp == \"smc.pos\":\n",
      "    wi.write_smc(\"pos\")\n",
      "if exp == \"smc.neg\":\n",
      "    wi.write_smc(\"neg\")\n",
      "if exp == \"clim\":\n",
      "    print \"nothing needs doin'\""
     ],
     "language": "python",
     "metadata": {},
     "outputs": [
      {
       "output_type": "stream",
       "stream": "stdout",
       "text": [
        "cld.pos\n",
        "Cloud anom loaded\n",
        "Positive anomaly"
       ]
      },
      {
       "output_type": "stream",
       "stream": "stdout",
       "text": [
        "\n",
        "Writing cloud.cover.cld.anom/nc\n"
       ]
      }
     ],
     "prompt_number": 103
    },
    {
     "cell_type": "heading",
     "level": 3,
     "metadata": {},
     "source": [
      "Copy the binary input files to the main directory"
     ]
    },
    {
     "cell_type": "code",
     "collapsed": false,
     "input": [
      "import shutil as sh\n",
      "import glob\n",
      "import os\n",
      "import re\n",
      "\n",
      "main_dir = '/home/nicholat/project/greb/'\n",
      "input_dir = main_dir + 'input_files/'\n",
      "orig_input_dir = main_dir + 'orig_input/'\n",
      "\n",
      "# copy the original input files into the main folder\n",
      "for filename in glob.glob(os.path.join(orig_input_dir, '*')):\n",
      "    sh.copy(filename, main_dir)\n",
      "print \"Original input files copied to main dir\"\n",
      "print \"Anom placeholder bin files copied to main dir\"\n",
      "\n",
      "if exp == 'v_anom.pos':\n",
      "    sh.copyfile(input_dir+'meridional.wind.anom',\n",
      "                main_dir+'meridional.wind.anom')\n",
      "    print \"Anomalous meridional wind input copied to main dir\"\n",
      "    \n",
      "if exp == 'u_anom.pos':\n",
      "    sh.copyfile(input_dir+'zonal.wind.anom',\n",
      "                main_dir+'zonal.wind.anom')\n",
      "    print \"Anomalous zonal wind input copied to main dir\"\n",
      "    \n",
      "if exp == 'uv_anom.pos':\n",
      "    sh.copyfile(input_dir+'zonal.wind.anom',\n",
      "                main_dir+'zonal.wind.anom')\n",
      "    print \"Anomalous zonal wind input copied to main dir\"\n",
      "    sh.copyfile(input_dir+'meridional.wind.anom',\n",
      "                main_dir+'meridional.wind.anom')\n",
      "    print \"Anomalous meridional wind input copied to main dir\"\n",
      "\n",
      "if exp == 'cld.pos':\n",
      "    sh.copyfile(input_dir+'cloud.cover.cld.anom',\n",
      "                main_dir+'cloud.cover.anom')\n",
      "    with open('namelist','r') as f_in:\n",
      "        lines = f_in.readlines()\n",
      "        # do the replacement in the ith line.\n",
      "        lines[7] = re.sub('wnd','cld',lines[7])\n",
      "        print lines[7]\n",
      "    with open('namelist','w') as f_out:\n",
      "        f_out.writelines(lines)\n",
      "\n",
      "    print \"Anomalous cloud clover input copied to main dir\"\n",
      "    \n",
      "if exp == 'smc.pos':\n",
      "    sh.copyfile(input_dir+'soil.moisture.smc.anom',\n",
      "                main_dir+'soil.moisture.anom')\n",
      "    with open('namelist','r') as f_in:\n",
      "        lines = f_in.readlines()\n",
      "        # do the replacement in the ith line.\n",
      "        lines[7] = re.sub('wnd','smc',lines[7])\n",
      "        print lines[7]\n",
      "    with open('namelist','w') as f_out:\n",
      "        f_out.writelines(lines)\n",
      "\n",
      "    print \"Anomalous soil moisture input copied to main dir\"\n",
      "\n",
      "if exp == 'smc.neg':\n",
      "    sh.copyfile(input_dir+'soil.moisture.smc.anom',\n",
      "                main_dir+'soil.moisture.anom')\n",
      "    with open('namelist','r') as f_in:\n",
      "        lines = f_in.readlines()\n",
      "        # do the replacement in the ith line.\n",
      "        lines[7] = re.sub('wnd','smc',lines[7])\n",
      "        print lines[7]\n",
      "    with open('namelist','w') as f_out:\n",
      "        f_out.writelines(lines)\n",
      "\n",
      "    print \"Anomalous soil moisture input copied to main dir\"\n",
      "        "
     ],
     "language": "python",
     "metadata": {},
     "outputs": [
      {
       "output_type": "stream",
       "stream": "stdout",
       "text": [
        "Original input files copied to main dir\n",
        "Anom placeholder bin files copied to main dir\n",
        "anom = 'cld' ! character(len3) choose anomaly (cld (wind), smc, cld)\n"
       ]
      },
      {
       "output_type": "stream",
       "stream": "stdout",
       "text": [
        "\n",
        "Anomalous cloud clover input copied to main dir\n"
       ]
      }
     ],
     "prompt_number": 104
    },
    {
     "cell_type": "heading",
     "level": 3,
     "metadata": {},
     "source": [
      "Check Input"
     ]
    },
    {
     "cell_type": "code",
     "collapsed": false,
     "input": [
      "anom_list = gt.read_anom_bin()\n",
      "fig = plt.figure(figsize=(5,5))\n",
      "plt.subplot(3,2,1)\n",
      "iplt.pcolormesh(anom_list[0][:,:,-1],cmap='bwr')\n",
      "plt.title(anom_list[0].long_name)\n",
      "plt.gca().coastlines()\n",
      "plt.subplot(3,2,2)\n",
      "iplt.pcolormesh(anom_list[1][:,:,-1],cmap='bwr')\n",
      "plt.title(anom_list[1].long_name)\n",
      "plt.gca().coastlines()\n",
      "plt.subplot(3,2,3)\n",
      "iplt.pcolormesh(anom_list[2][:,:,-1],cmap='bwr')\n",
      "plt.title(anom_list[2].long_name)\n",
      "plt.gca().coastlines()\n",
      "plt.subplot(3,2,4)\n",
      "iplt.pcolormesh(anom_list[3][:,:,-1],cmap='bwr')\n",
      "plt.title(anom_list[3].long_name)\n",
      "plt.gca().coastlines()"
     ],
     "language": "python",
     "metadata": {},
     "outputs": [
      {
       "metadata": {},
       "output_type": "pyout",
       "prompt_number": 106,
       "text": [
        "<cartopy.mpl.feature_artist.FeatureArtist at 0x7f56c0523390>"
       ]
      },
      {
       "metadata": {},
       "output_type": "display_data",
       "png": "[encoded data removed]",
       "text": [
        "<matplotlib.figure.Figure at 0x7f56c00fa910>"
       ]
      }
     ],
     "prompt_number": 106
    },
    {
     "cell_type": "heading",
     "level": 3,
     "metadata": {},
     "source": [
      "Run the model"
     ]
    },
    {
     "cell_type": "code",
     "collapsed": false,
     "input": [
      "%%bash\n",
      "cat namelist"
     ],
     "language": "python",
     "metadata": {},
     "outputs": [
      {
       "output_type": "stream",
       "stream": "stdout",
       "text": [
        "&NUMERICS\n",
        "time_flux = 3  ! length of flux corrections run [yrs]\n",
        "time_ctrl = 5  ! length of control run [yrs\n",
        "time_scnr = 50  ! length of scenariorun [yrs\n",
        "/\n",
        "&PHYSICS\n",
        "log_exp = 10 ! complete GREB model; 2xCO2 forcing\n",
        "anom = 'cld' ! character(len3) choose anomaly (cld (wind), smc, cld)\n",
        "/\n"
       ]
      }
     ],
     "prompt_number": 107
    },
    {
     "cell_type": "heading",
     "level": 3,
     "metadata": {},
     "source": [
      "Run GREB model"
     ]
    },
    {
     "cell_type": "code",
     "collapsed": false,
     "input": [
      "%%bash\n",
      "./compile_run_greb.sh"
     ],
     "language": "python",
     "metadata": {},
     "outputs": [
      {
       "output_type": "stream",
       "stream": "stdout",
       "text": [
        " % start climate shell\n",
        " % diagonstic point lat/lon:    30.0000000       172.500000    \n",
        " % time flux/control/scenario:            3           5          50\n",
        " % flux correction    340.000000    \n",
        "   0.00000000       4.77062988       26.7869568       4.84933472    \n",
        "   0.00000000       4.77062988       26.7869568       4.84933472    \n",
        "   0.00000000       4.77062988       26.7869568       4.84933472    \n",
        " % CONTROL RUN CO2=   340.000000       time=           5 yr\n",
        "   1970.00000       4.77069092       26.7869873       4.84936523    \n",
        "   1970.00000       4.77069092       26.7869873       4.84936523    \n",
        "   1970.00000       4.77069092       26.7869873       4.84936523    \n",
        "   1970.00000       4.77075195       26.7870178       4.84936523    \n",
        "   1970.00000       4.77069092       26.7870483       4.84939575    \n",
        " % SCENARIO EXP:           10   time=          50 yr\n",
        " anom = cld\n",
        "   1940.00000       4.77871704       26.7738647       4.78076172    \n",
        "   1941.00000       4.78057861       26.7454224       4.77944946    \n",
        "   1942.00000       4.78106689       26.7383728       4.77853394    \n",
        "   1943.00000       4.78121948       26.7334900       4.77801514    \n",
        "   1944.00000       4.78121948       26.7297058       4.77780151    \n",
        "   1945.00000       4.78109741       26.7268677       4.77774048    \n",
        "   1946.00000       4.78088379       26.7247009       4.77761841    \n",
        "   1947.00000       4.78057861       26.7232056       4.77761841    \n",
        "   1948.00000       4.78030396       26.7222595       4.77761841    \n",
        "   1949.00000       4.77996826       26.7215576       4.77761841    \n",
        "   1950.00000       4.77966309       26.7210999       4.77761841    \n",
        "   1951.00000       4.77935791       26.7206726       4.77764893    \n",
        "   1952.00000       4.77902222       26.7203979       4.77764893    \n",
        "   1953.00000       4.77862549       26.7203064       4.77767944    \n",
        "   1954.00000       4.77844238       26.7201843       4.77767944    \n",
        "   1955.00000       4.77807617       26.7200623       4.77767944    \n",
        "   1956.00000       4.77767944       26.7200317       4.77770996    \n",
        "   1957.00000       4.77743530       26.7200623       4.77770996    \n",
        "   1958.00000       4.77722168       26.7200623       4.77770996    \n",
        "   1959.00000       4.77691650       26.7201233       4.77774048    \n",
        "   1960.00000       4.77661133       26.7201233       4.77774048    \n",
        "   1961.00000       4.77642822       26.7201233       4.77777100    \n",
        "   1962.00000       4.77621460       26.7201538       4.77783203    \n",
        "   1963.00000       4.77593994       26.7201538       4.77786255    \n",
        "   1964.00000       4.77569580       26.7201843       4.77792358    \n",
        "   1965.00000       4.77554321       26.7201843       4.77798462    \n",
        "   1966.00000       4.77539062       26.7201843       4.77798462    \n",
        "   1967.00000       4.77520752       26.7201843       4.77801514    \n",
        "   1968.00000       4.77502441       26.7201843       4.77804565    \n",
        "   1969.00000       4.77481079       26.7201843       4.77804565    \n",
        "   1970.00000       4.77465820       26.7201538       4.77810669    \n",
        "   1971.00000       4.77450562       26.7201233       4.77810669    \n",
        "   1972.00000       4.77438354       26.7201233       4.77813721    \n",
        "   1973.00000       4.77423096       26.7201233       4.77816772    \n",
        "   1974.00000       4.77407837       26.7200623       4.77816772    \n",
        "   1975.00000       4.77395630       26.7199707       4.77822876    \n",
        "   1976.00000       4.77386475       26.7199707       4.77825928    \n",
        "   1977.00000       4.77374268       26.7199097       4.77828979    \n",
        "   1978.00000       4.77365112       26.7198486       4.77828979    \n",
        "   1979.00000       4.77352905       26.7197876       4.77832031    \n",
        "   1980.00000       4.77346802       26.7197571       4.77832031    \n",
        "   1981.00000       4.77334595       26.7197571       4.77832031    \n",
        "   1982.00000       4.77328491       26.7196960       4.77838135    \n",
        "   1983.00000       4.77322388       26.7196960       4.77838135    \n",
        "   1984.00000       4.77313232       26.7196960       4.77838135    \n",
        "   1985.00000       4.77304077       26.7196960       4.77838135    \n",
        "   1986.00000       4.77291870       26.7196655       4.77841187    \n",
        "   1987.00000       4.77285767       26.7196045       4.77844238    \n",
        "   1988.00000       4.77279663       26.7196045       4.77844238    \n",
        "   1989.00000       4.77276611       26.7195740       4.77844238    \n"
       ]
      }
     ],
     "prompt_number": 108
    },
    {
     "cell_type": "heading",
     "level": 3,
     "metadata": {},
     "source": [
      "Copy output to bin_dir and rename"
     ]
    },
    {
     "cell_type": "code",
     "collapsed": false,
     "input": [
      "# Copy the output files to bin_files dir and rename\n",
      "bin_dir = main_dir + 'bin_files/'\n",
      "sh.copyfile(main_dir + 'control',bin_dir + 'control.' + exp + '.bin')\n",
      "sh.copyfile(main_dir + 'scenario',bin_dir + 'scenario.' + exp + '.bin')"
     ],
     "language": "python",
     "metadata": {},
     "outputs": [],
     "prompt_number": 109
    },
    {
     "cell_type": "code",
     "collapsed": false,
     "input": [
      "ls bin_files/"
     ],
     "language": "python",
     "metadata": {},
     "outputs": [
      {
       "output_type": "stream",
       "stream": "stdout",
       "text": [
        "control.cld.pos.bin     control.uv_anom.pos.bin    scenario.smc.pos.bin\r\n",
        "control.clim.bin        control.v_anom.pos.bin     scenario.test.bin\r\n",
        "control.icealb.bin      control.vwind_1msanom.bin  scenario.u_anom.pos.bin\r\n",
        "control.smc.dry.bin     scenario.cld.pos.bin       scenario.uv_anom.pos.bin\r\n",
        "control.smc.neg.bin     scenario.clim.bin          scenario.vanom.bin\r\n",
        "control.smc.pos.bin     scenario.icealb.bin        scenario.v_anom.pos.bin\r\n",
        "control.test.bin        scenario.smc.dry.bin       scenario.vwind_1msanom.bin\r\n",
        "control.u_anom.pos.bin  scenario.smc.neg.bin\r\n"
       ]
      }
     ],
     "prompt_number": 110
    },
    {
     "cell_type": "heading",
     "level": 3,
     "metadata": {},
     "source": [
      "Convert output binary files to netcdf"
     ]
    },
    {
     "cell_type": "code",
     "collapsed": false,
     "input": [
      "import output_to_nc as b2n\n",
      "\n",
      "cube_list = b2n.write_exp(exp)"
     ],
     "language": "python",
     "metadata": {},
     "outputs": [
      {
       "output_type": "stream",
       "stream": "stdout",
       "text": [
        "./bin_files/scenario.cld.pos.bin\n",
        "tdim = 600\n",
        "Save cube as ./ncfiles/t_surf.cld.pos.nc"
       ]
      },
      {
       "output_type": "stream",
       "stream": "stdout",
       "text": [
        "\n",
        "tdim = 600\n",
        "Save cube as ./ncfiles/t_atmos.cld.pos.nc"
       ]
      },
      {
       "output_type": "stream",
       "stream": "stdout",
       "text": [
        "\n",
        "tdim = 600\n",
        "Save cube as ./ncfiles/t_ocean.cld.pos.nc"
       ]
      },
      {
       "output_type": "stream",
       "stream": "stdout",
       "text": [
        "\n",
        "tdim = 600\n",
        "Save cube as ./ncfiles/vapour.cld.pos.nc"
       ]
      },
      {
       "output_type": "stream",
       "stream": "stdout",
       "text": [
        "\n",
        "tdim = 600\n",
        "Save cube as ./ncfiles/albedo.cld.pos.nc"
       ]
      },
      {
       "output_type": "stream",
       "stream": "stdout",
       "text": [
        "\n"
       ]
      }
     ],
     "prompt_number": 111
    },
    {
     "cell_type": "heading",
     "level": 3,
     "metadata": {},
     "source": [
      "Check Output"
     ]
    },
    {
     "cell_type": "code",
     "collapsed": false,
     "input": [
      "nc_dir = main_dir+'ncfiles/'\n",
      "t_surf_clim = iris.load_cube(nc_dir + '/t_surf.clim.nc')\n",
      "t_surf = iris.load_cube(nc_dir + '/t_surf.' + exp + '.nc')\n",
      "\n",
      "gt.try_cube(t_surf_clim)\n",
      "gt.try_cube(t_surf)\n",
      "\n",
      "# take the mean of last year \n",
      "t_surf_clim_mean = t_surf_clim[:,:,-13:-1].collapsed('time',iris.analysis.MEAN)\n",
      "t_surf_mean = t_surf[:,:,-13:-1].collapsed('time',iris.analysis.MEAN)\n",
      "dif = t_surf_mean - t_surf_clim_mean\n",
      "qplt.pcmeshclf(dif,vmin=-0.5,vmax=0.5)\n",
      "\n",
      "#fig = plt.figure(figsize=(12,8))\n",
      "#plt.subplot(2,2,1)\n",
      "#qplt.pcmeshclf(t_surf_clim_mean,hold=True,cmap=mc.jetwhite(),vmax = (273.15+30), vmin = (273.15-30))\n",
      "#plt.subplot(2,2,2)\n",
      "#qplt.pcmeshclf(t_surf_mean,hold=True,cmap=mc.jetwhite(),vmax = (273.15+30), vmin = (273.15-30))\n"
     ],
     "language": "python",
     "metadata": {},
     "outputs": [
      {
       "metadata": {},
       "output_type": "pyout",
       "prompt_number": 115,
       "text": [
        "<matplotlib.collections.QuadMesh at 0x7f56bd5314d0>"
       ]
      },
      {
       "metadata": {},
       "output_type": "display_data",
       "png": "[encoded data removed]",
       "text": [
        "<matplotlib.figure.Figure at 0x7f56c01c9fd0>"
       ]
      }
     ],
     "prompt_number": 115
    },
    {
     "cell_type": "code",
     "collapsed": false,
     "input": [
      "%whos"
     ],
     "language": "python",
     "metadata": {},
     "outputs": [
      {
       "output_type": "stream",
       "stream": "stdout",
       "text": [
        "Variable           Type        Data/Info\n",
        "----------------------------------------\n",
        "anom_list          CubeList    0: cloud.cover.anom / (1)<...>longitude: 96; time: 730)\n",
        "b2n                module      <module 'output_to_nc' from 'output_to_nc.pyc'>\n",
        "bin_dir            str         /home/nicholat/project/greb/bin_files/\n",
        "cube_list          CubeList    0: surface_temperature / <...>longitude: 96; time: 600)\n",
        "dif                Cube        unknown / (K)            <...>         -              x\n",
        "exp                str         smc.neg\n",
        "f_in               file        <closed file 'namelist', <...>de 'r' at 0x7f56c174d300>\n",
        "f_out              file        <closed file 'namelist', <...>de 'w' at 0x7f56c174da50>\n",
        "fig                Figure      Figure(400x400)\n",
        "filename           str         /home/nicholat/project/gr<...>nput/meridional.wind.anom\n",
        "glob               module      <module 'glob' from '/usr<...>/lib/python2.7/glob.pyc'>\n",
        "gt                 module      <module 'greb_tools' from 'greb_tools.pyc'>\n",
        "input_dir          str         /home/nicholat/project/greb/input_files/\n",
        "iplt               module      <module 'iris.plot' from <...>-packages/iris/plot.pyc'>\n",
        "iris               module      <module 'iris' from '/usr<...>kages/iris/__init__.pyc'>\n",
        "lines              list        n=9\n",
        "main_dir           str         /home/nicholat/project/greb/\n",
        "mc                 module      <module 'mycmaps' from '/<...>lat/climate/mycmaps.pyc'>\n",
        "nc_dir             str         /home/nicholat/project/greb/ncfiles/\n",
        "np                 module      <module 'numpy' from '/us<...>ages/numpy/__init__.pyc'>\n",
        "orig_input_dir     str         /home/nicholat/project/greb/orig_input/\n",
        "os                 module      <module 'os' from '/usr/lib/python2.7/os.pyc'>\n",
        "plt                module      <module 'matplotlib.pyplo<...>s/matplotlib/pyplot.pyc'>\n",
        "qplt               module      <module 'iris.quickplot' <...>kages/iris/quickplot.py'>\n",
        "re                 module      <module 're' from '/usr/lib/python2.7/re.pyc'>\n",
        "sh                 module      <module 'shutil' from '/u<...>ib/python2.7/shutil.pyc'>\n",
        "t_surf             Cube        surface_temperature / (K)<...>rce: Data from GREB model\n",
        "t_surf_clim        Cube        surface_temperature / (K)<...>rce: Data from GREB model\n",
        "t_surf_clim_mean   Cube        surface_temperature / (K)<...>ds:\\n          mean: time\n",
        "t_surf_mean        Cube        surface_temperature / (K)<...>ds:\\n          mean: time\n",
        "wi                 module      <module 'write_input' from 'write_input.py'>\n"
       ]
      }
     ],
     "prompt_number": 99
    },
    {
     "cell_type": "code",
     "collapsed": false,
     "input": [],
     "language": "python",
     "metadata": {},
     "outputs": [],
     "prompt_number": 99
    }
   ],
   "metadata": {}
  }
 ]
}