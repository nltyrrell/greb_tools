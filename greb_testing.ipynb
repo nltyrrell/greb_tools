{
 "metadata": {
  "name": "",
  "signature": "sha256:5d8075335f6a1e61af583d981ac1362d815f188dbb313ca407f40c7200c83178"
 },
 "nbformat": 3,
 "nbformat_minor": 0,
 "worksheets": [
  {
   "cells": [
    {
     "cell_type": "code",
     "collapsed": false,
     "input": [
      "%load_ext autoreload\n",
      "%autoreload 2"
     ],
     "language": "python",
     "metadata": {},
     "outputs": [
      {
       "output_type": "stream",
       "stream": "stdout",
       "text": [
        "The autoreload extension is already loaded. To reload it, use:\n",
        "  %reload_ext autoreload\n"
       ]
      }
     ],
     "prompt_number": 33
    },
    {
     "cell_type": "heading",
     "level": 2,
     "metadata": {},
     "source": [
      "Experiments with the GREB Model"
     ]
    },
    {
     "cell_type": "markdown",
     "metadata": {},
     "source": [
      "Initial experiments\n",
      "- Wind anomaly: \n",
      "    - v_anom.pos/neg\n",
      "    - u_anom.pos/neg\n",
      "    - u_vanom.pos/neg\n",
      "- Cloud anomaly: \n",
      "    - cld.inc\n",
      "    - cld.dec\n",
      "- Soil Moisture anomaly: \n",
      "    - smc.wet\n",
      "    - smc.dry\n",
      "- SST anomaly"
     ]
    },
    {
     "cell_type": "heading",
     "level": 3,
     "metadata": {},
     "source": [
      "Creat input files and run model"
     ]
    },
    {
     "cell_type": "markdown",
     "metadata": {},
     "source": [
      "Define the experiment name"
     ]
    },
    {
     "cell_type": "code",
     "collapsed": false,
     "input": [
      "# exp = \"smc.dry\"\n",
      "# exp = \"clim\"\n",
      "exp = \"v_anom.pos\"\n",
      "# exp = \"vwind_1msanom\"\n",
      "# exp = \"test\""
     ],
     "language": "python",
     "metadata": {},
     "outputs": [],
     "prompt_number": 34
    },
    {
     "cell_type": "markdown",
     "metadata": {},
     "source": [
      "Create the input files.\n",
      "\n",
      "Copy them to main directory."
     ]
    },
    {
     "cell_type": "code",
     "collapsed": false,
     "input": [
      "print exp"
     ],
     "language": "python",
     "metadata": {},
     "outputs": [
      {
       "output_type": "stream",
       "stream": "stdout",
       "text": [
        "v_anom.pos\n"
       ]
      }
     ],
     "prompt_number": 35
    },
    {
     "cell_type": "markdown",
     "metadata": {},
     "source": [
      "Run the model"
     ]
    },
    {
     "cell_type": "code",
     "collapsed": false,
     "input": [
      "%%bash\n",
      "cat namelist"
     ],
     "language": "python",
     "metadata": {},
     "outputs": [
      {
       "output_type": "stream",
       "stream": "stdout",
       "text": [
        "&NUMERICS\n",
        "time_flux = 1  ! length of flux corrections run [yrs]\n",
        "time_ctrl = 1  ! length of control run [yrs\n",
        "time_scnr = 2  ! length of scenariorun [yrs\n",
        "/\n",
        "&PHYSICS\n",
        "log_exp = 10 ! complete GREB model; 2xCO2 forcing\n",
        "anom = 'wnd' ! character(len3) choose anomaly (wnd (wind), smc, cld)\n",
        "/\n"
       ]
      }
     ],
     "prompt_number": 36
    },
    {
     "cell_type": "heading",
     "level": 4,
     "metadata": {},
     "source": [
      "Run GREB model"
     ]
    },
    {
     "cell_type": "code",
     "collapsed": false,
     "input": [
      "%%bash\n",
      "# ./compile_run_greb.sh"
     ],
     "language": "python",
     "metadata": {},
     "outputs": [],
     "prompt_number": 204
    },
    {
     "cell_type": "heading",
     "level": 3,
     "metadata": {},
     "source": [
      "Copy output files to bin_files and rename"
     ]
    },
    {
     "cell_type": "code",
     "collapsed": false,
     "input": [
      "import shutil as sh\n",
      "import glob\n",
      "import os\n",
      "\n",
      "main_dir = '/home/nicholat/project/greb/'\n",
      "input_dir = main_dir + 'input_files/'\n",
      "orig_input_dir = main_dir + 'orig_input/'\n",
      "\n",
      "# Copy the output files to bin_files dir and rename\n",
      "bin_dir = main_dir + 'bin_files/'\n",
      "sh.copyfile(main_dir + 'control',bin_dir + 'control.' + exp + '.bin')\n",
      "sh.copyfile(main_dir + 'scenario',bin_dir + 'scenario.' + exp + '.bin')"
     ],
     "language": "python",
     "metadata": {},
     "outputs": [],
     "prompt_number": 38
    },
    {
     "cell_type": "code",
     "collapsed": false,
     "input": [
      "ls bin_files/"
     ],
     "language": "python",
     "metadata": {},
     "outputs": [
      {
       "output_type": "stream",
       "stream": "stdout",
       "text": [
        "control.clim.bin        control.vwind_1msanom.bin  scenario.vanom.bin\r\n",
        "control.icealb.bin      scenario.clim.bin          scenario.v_anom.pos.bin\r\n",
        "control.smc.dry.bin     scenario.icealb.bin        scenario.vwind_1msanom.bin\r\n",
        "control.test.bin        scenario.smc.dry.bin\r\n",
        "control.v_anom.pos.bin  scenario.test.bin\r\n"
       ]
      }
     ],
     "prompt_number": 39
    },
    {
     "cell_type": "heading",
     "level": 4,
     "metadata": {},
     "source": [
      "Convert output binary files to netcdf"
     ]
    },
    {
     "cell_type": "code",
     "collapsed": false,
     "input": [
      "import output_to_nc as b2n\n",
      "\n",
      "cube_list = b2n.write_exp(exp)"
     ],
     "language": "python",
     "metadata": {},
     "outputs": [
      {
       "output_type": "stream",
       "stream": "stdout",
       "text": [
        "./bin_files/scenario.v_anom.pos.bin\n",
        "tdim = 24\n",
        "Save cube as ./ncfiles/t_surf.v_anom.pos.nc\n",
        "tdim = 24\n",
        "Save cube as ./ncfiles/t_atmos.v_anom.pos.nc\n",
        "tdim = 24\n",
        "Save cube as ./ncfiles/t_ocean.v_anom.pos.nc\n",
        "tdim = 24\n",
        "Save cube as ./ncfiles/vapour.v_anom.pos.nc\n",
        "tdim = 24\n",
        "Save cube as ./ncfiles/albedo.v_anom.pos.nc"
       ]
      },
      {
       "output_type": "stream",
       "stream": "stdout",
       "text": [
        "\n"
       ]
      }
     ],
     "prompt_number": 40
    },
    {
     "cell_type": "heading",
     "level": 4,
     "metadata": {},
     "source": [
      "Check output"
     ]
    },
    {
     "cell_type": "code",
     "collapsed": false,
     "input": [
      "import iris\n",
      "import iris.quickplot as qplt\n",
      "import matplotlib.pyplot as plt\n",
      "import numpy as np\n",
      "import mycmaps as mc\n",
      "%matplotlib inline\n",
      "\n",
      "nc_dir = main_dir+'ncfiles/'\n",
      "t_surf_clim = iris.load_cube(nc_dir + '/t_surf.clim.nc')\n",
      "t_surf = iris.load_cube(nc_dir + '/t_surf.' + exp + '.nc')"
     ],
     "language": "python",
     "metadata": {},
     "outputs": [],
     "prompt_number": 41
    },
    {
     "cell_type": "code",
     "collapsed": false,
     "input": [
      "def try_cube(cube):\n",
      "    \"\"\" get cubes up to spec in terms of time var name and bounds\n",
      "    Input: cube\n",
      "    Output: cube\n",
      "    \"\"\"\n",
      "    try:\n",
      "        cube.coord('t').standard_name = 'time'\n",
      "    except:\n",
      "        pass\n",
      "    try:\n",
      "        cube.coord('pressure').standard_name = 'air_pressure'\n",
      "    except:\n",
      "        pass\n",
      "    try:\n",
      "        cube.coord('latitude').guess_bounds()\n",
      "    except:\n",
      "        pass\n",
      "    try:\n",
      "        cube.coord('longitude').guess_bounds()\n",
      "    except:\n",
      "        pass\n",
      "    return cube\n"
     ],
     "language": "python",
     "metadata": {},
     "outputs": [],
     "prompt_number": 42
    },
    {
     "cell_type": "code",
     "collapsed": false,
     "input": [
      "try_cube(t_surf_clim)\n",
      "try_cube(t_surf)\n",
      "\n",
      "t_surf_clim_mean = t_surf_clim.collapsed('time',iris.analysis.MEAN)\n",
      "grid_areas = iris.analysis.cartography.area_weights(t_surf_clim)\n",
      "t_surf_clim_amean = t_surf_clim.collapsed(['latitude', 'longitude'],\n",
      "                           iris.analysis.MEAN,\n",
      "                           weights=grid_areas)\n",
      "\n",
      "t_surf_mean = t_surf.collapsed('time',iris.analysis.MEAN)\n",
      "grid_areas = iris.analysis.cartography.area_weights(t_surf)\n",
      "t_surf_amean = t_surf.collapsed(['latitude', 'longitude'],\n",
      "                           iris.analysis.MEAN,\n",
      "                           weights=grid_areas)\n"
     ],
     "language": "python",
     "metadata": {},
     "outputs": [],
     "prompt_number": 43
    },
    {
     "cell_type": "code",
     "collapsed": false,
     "input": [
      "fig = plt.figure(figsize=(12,8))\n",
      "plt.subplot(1,2,1)\n",
      "qplt.pcmeshclf(t_surf_clim_mean,hold=True,cmap=mc.jetwhite(),vmax = (273.15+30), vmin = (273.15-30))\n",
      "plt.subplot(1,2,2)\n",
      "qplt.pcmeshclf(t_surf_mean,hold=True,cmap=mc.jetwhite(),vmax = (273.15+30), vmin = (273.15-30))"
     ],
     "language": "python",
     "metadata": {},
     "outputs": []
    },
    {
     "cell_type": "code",
     "collapsed": false,
     "input": [
      "qplt.pcmeshclf(t_surf_mean-t_surf_clim_mean) #,cmap=mc.jetwhite(),vmin=-1,vmax=1)\n",
      "plt.title('Tsurf response, vwind - 1ms')\n",
      "# plt.savefig('./figures/t_surf.'+exp+'.response.pdf')"
     ],
     "language": "python",
     "metadata": {},
     "outputs": [
      {
       "metadata": {},
       "output_type": "pyout",
       "prompt_number": 19,
       "text": [
        "<matplotlib.text.Text at 0x7f7cdb586610>"
       ]
      },
      {
       "metadata": {},
       "output_type": "display_data",
       "png": "[encoded data removed]",
       "text": [
        "<matplotlib.figure.Figure at 0x7f7cde2b9110>"
       ]
      }
     ],
     "prompt_number": 19
    },
    {
     "cell_type": "code",
     "collapsed": false,
     "input": [
      "nz = np.zeros(t_surf.shape)\n",
      "%whos"
     ],
     "language": "python",
     "metadata": {},
     "outputs": [
      {
       "output_type": "stream",
       "stream": "stdout",
       "text": [
        "Variable            Type        Data/Info\n",
        "-----------------------------------------\n",
        "b2n                 module      <module 'output_to_nc' from 'output_to_nc.pyc'>\n",
        "bin_dir             str         /home/nicholat/project/greb/bin_files/\n",
        "cube_list           CubeList    0: surface_temperature / <...> longitude: 96; time: 24)\n",
        "exp                 str         test\n",
        "fig                 Figure      Figure(960x640)\n",
        "glob                module      <module 'glob' from '/usr<...>/lib/python2.7/glob.pyc'>\n",
        "grid_areas          ndarray     48x96x24: 110592 elems, type `float64`, 884736 bytes (864 kb)\n",
        "input_dir           str         /home/nicholat/project/greb/input_files/\n",
        "iris                module      <module 'iris' from '/usr<...>kages/iris/__init__.pyc'>\n",
        "main_dir            str         /home/nicholat/project/greb/\n",
        "mc                  module      <module 'mycmaps' from '/<...>lat/climate/mycmaps.pyc'>\n",
        "nc_dir              str         /home/nicholat/project/greb/ncfiles/\n",
        "np                  module      <module 'numpy' from '/us<...>ages/numpy/__init__.pyc'>\n",
        "nz                  ndarray     48x96x24: 110592 elems, type `float64`, 884736 bytes (864 kb)\n",
        "orig_input_dir      str         /home/nicholat/project/greb/orig_input/\n",
        "os                  module      <module 'os' from '/usr/lib/python2.7/os.pyc'>\n",
        "plt                 module      <module 'matplotlib.pyplo<...>s/matplotlib/pyplot.pyc'>\n",
        "qplt                module      <module 'iris.quickplot' <...>kages/iris/quickplot.py'>\n",
        "sh                  module      <module 'shutil' from '/u<...>ib/python2.7/shutil.pyc'>\n",
        "t_surf              Cube        surface_temperature / (K)<...>rce: Data from GREB model\n",
        "t_surf_amean        Cube        surface_temperature / (K)<...>mean: latitude, longitude\n",
        "t_surf_clim         Cube        surface_temperature / (K)<...>rce: Data from GREB model\n",
        "t_surf_clim_amean   Cube        surface_temperature / (K)<...>mean: latitude, longitude\n",
        "t_surf_clim_mean    Cube        surface_temperature / (K)<...>ds:\\n          mean: time\n",
        "t_surf_mean         Cube        surface_temperature / (K)<...>ds:\\n          mean: time\n",
        "try_cube            function    <function try_cube at 0x7f7d216a36e0>\n"
       ]
      }
     ],
     "prompt_number": 23
    },
    {
     "cell_type": "code",
     "collapsed": false,
     "input": [
      "import write_input as wr\n",
      "wr.write_blank_anom()\n",
      "%ls orig_input/"
     ],
     "language": "python",
     "metadata": {},
     "outputs": [
      {
       "output_type": "stream",
       "stream": "stdout",
       "text": [
        "writing placeholder binary files to orig_input\n",
        "cloud.cover       meridional.wind.anom  solar.radiation  zonal.wind\r\n",
        "cloud.cover.anom  ocean.mld             topography       zonal.wind.anom\r\n",
        "glacier.masks     soil.moisture         tsurf\r\n",
        "meridional.wind   soil.moisture.anom    vapor\r\n"
       ]
      }
     ],
     "prompt_number": 32
    },
    {
     "cell_type": "code",
     "collapsed": false,
     "input": [],
     "language": "python",
     "metadata": {},
     "outputs": []
    }
   ],
   "metadata": {}
  }
 ]
}