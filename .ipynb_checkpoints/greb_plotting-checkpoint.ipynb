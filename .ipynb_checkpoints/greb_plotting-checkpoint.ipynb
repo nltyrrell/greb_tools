{
 "metadata": {
  "name": "",
  "signature": "sha256:f78ff5029f7dbf155386bb438298abc4f0cf22547a274d3b4c8ead757e226e31"
 },
 "nbformat": 3,
 "nbformat_minor": 0,
 "worksheets": [
  {
   "cells": [
    {
     "cell_type": "code",
     "collapsed": false,
     "input": [
      "%load_ext autoreload"
     ],
     "language": "python",
     "metadata": {},
     "outputs": [],
     "prompt_number": 1
    },
    {
     "cell_type": "code",
     "collapsed": false,
     "input": [
      "%autoreload 2"
     ],
     "language": "python",
     "metadata": {},
     "outputs": [],
     "prompt_number": 2
    },
    {
     "cell_type": "heading",
     "level": 2,
     "metadata": {},
     "source": [
      "Experiments with the GREB Model"
     ]
    },
    {
     "cell_type": "markdown",
     "metadata": {},
     "source": [
      "Initial experiments\n",
      "- Wind anomaly: \n",
      "    - v_anom.pos/neg\n",
      "    - u_anom.pos/neg\n",
      "    - u_vanom.pos/neg\n",
      "- Cloud anomaly: \n",
      "    - cld.inc\n",
      "    - cld.dec\n",
      "- Soil Moisture anomaly: \n",
      "    - smc.wet\n",
      "    - smc.dry\n",
      "- SST anomaly"
     ]
    },
    {
     "cell_type": "markdown",
     "metadata": {},
     "source": [
      "Define the experiment name"
     ]
    },
    {
     "cell_type": "code",
     "collapsed": false,
     "input": [
      "exp = \"v_anom.pos\""
     ],
     "language": "python",
     "metadata": {},
     "outputs": [],
     "prompt_number": 7
    },
    {
     "cell_type": "code",
     "collapsed": false,
     "input": [
      "print exp"
     ],
     "language": "python",
     "metadata": {},
     "outputs": [
      {
       "output_type": "stream",
       "stream": "stdout",
       "text": [
        "clim\n"
       ]
      }
     ],
     "prompt_number": 6
    },
    {
     "cell_type": "code",
     "collapsed": false,
     "input": [
      "import shutil as sh\n",
      "import glob\n",
      "import os\n",
      "\n",
      "main_dir = '/home/nicholat/project/greb/'\n",
      "input_dir = main_dir + 'input_files/'\n",
      "orig_input_dir = main_dir + 'orig_input/'\n",
      "    "
     ],
     "language": "python",
     "metadata": {},
     "outputs": [],
     "prompt_number": 3
    },
    {
     "cell_type": "heading",
     "level": 3,
     "metadata": {},
     "source": [
      "Read in nc files"
     ]
    },
    {
     "cell_type": "code",
     "collapsed": false,
     "input": [
      "import output_to_nc as b2n\n",
      "\n",
      "cube_list = b2n.write_exp(exp)"
     ],
     "language": "python",
     "metadata": {},
     "outputs": [
      {
       "output_type": "stream",
       "stream": "stdout",
       "text": [
        "./bin_files/scenario.clim.bin\n",
        "tdim = 60\n",
        "Save cube as ./ncfiles/t_surf.clim.nc\n",
        "tdim = 60\n",
        "Save cube as ./ncfiles/t_atmos.clim.nc"
       ]
      },
      {
       "output_type": "stream",
       "stream": "stdout",
       "text": [
        "\n",
        "tdim = 60\n",
        "Save cube as ./ncfiles/t_ocean.clim.nc\n",
        "tdim = 60\n",
        "Save cube as ./ncfiles/vapour.clim.nc\n",
        "tdim = 60\n",
        "Save cube as ./ncfiles/albedo.clim.nc"
       ]
      },
      {
       "output_type": "stream",
       "stream": "stdout",
       "text": [
        "\n"
       ]
      }
     ],
     "prompt_number": 13
    },
    {
     "cell_type": "markdown",
     "metadata": {},
     "source": [
      "Read in climatology and experiment netcdf files"
     ]
    },
    {
     "cell_type": "code",
     "collapsed": false,
     "input": [
      "ls ncfiles/"
     ],
     "language": "python",
     "metadata": {},
     "outputs": [
      {
       "output_type": "stream",
       "stream": "stdout",
       "text": [
        "albedo.clim.nc                 ocean.mld.nc           t_ocean.sst1k.nc       vapour.clim.nc\r\n",
        "albedo.exp5.nc                 outfile.bin.nc         t_ocean.v_anom.pos.nc  vapour.exp5.nc\r\n",
        "albedo.sst1k.nc                soil.moisture.nc       t_surf.clim.nc         vapour.sst1k.nc\r\n",
        "albedo.v_anom.pos.nc           t_atmos.clim.nc        t_surf.exp5.nc         vapour.v_anom.pos.nc\r\n",
        "cloud.cover.nc                 t_atmos.exp5.nc        tsurf.nc               v_reg_aus_850.nc\r\n",
        "meridional.wind.nc             t_atmos.sst1k.nc       t_surf.sst1k.nc        zonal.wind.nc\r\n",
        "meridional.wind.v_anom.nc      t_atmos.v_anom.pos.nc  t_surf.v_anom.pos.nc\r\n",
        "meridional.wind.vanom.nc       t_ocean.clim.nc        u_reg_aus_850.nc\r\n",
        "meridional.wind.v_anom.pos.nc  t_ocean.exp5.nc        vapor.nc\r\n"
       ]
      }
     ],
     "prompt_number": 14
    },
    {
     "cell_type": "code",
     "collapsed": false,
     "input": [
      "import iris\n",
      "import iris.quickplot as qplt\n",
      "\n",
      "nc_dir = main_dir+'ncfiles/'\n",
      "\n",
      "t_surf_clim = iris.load_cube(nc_dir + '/t_surf.clim.nc')\n",
      "t_surf = iris.load_cube(nc_dir + '/t_surf.' + exp + '.nc')\n"
     ],
     "language": "python",
     "metadata": {},
     "outputs": [],
     "prompt_number": 8
    },
    {
     "cell_type": "code",
     "collapsed": true,
     "input": [
      "whos"
     ],
     "language": "python",
     "metadata": {},
     "outputs": [
      {
       "output_type": "stream",
       "stream": "stdout",
       "text": [
        "Variable         Type      Data/Info\n",
        "------------------------------------\n",
        "exp              str       v_anom.pos\n",
        "glob             module    <module 'glob' from '/usr<...>/lib/python2.7/glob.pyc'>\n",
        "input_dir        str       /home/nicholat/project/greb/input_files/\n",
        "iris             module    <module 'iris' from '/usr<...>kages/iris/__init__.pyc'>\n",
        "main_dir         str       /home/nicholat/project/greb/\n",
        "nc_dir           str       /home/nicholat/project/greb/ncfiles/\n",
        "orig_input_dir   str       /home/nicholat/project/greb/orig_input/\n",
        "os               module    <module 'os' from '/usr/lib/python2.7/os.pyc'>\n",
        "qplt             module    <module 'iris.quickplot' <...>kages/iris/quickplot.py'>\n",
        "sh               module    <module 'shutil' from '/u<...>ib/python2.7/shutil.pyc'>\n",
        "t_surf           Cube      surface_temperature / (K)<...>rce: Data from GREB model\n",
        "t_surf_clim      Cube      surface_temperature / (K)<...>rce: Data from GREB model\n"
       ]
      }
     ],
     "prompt_number": 9
    },
    {
     "cell_type": "heading",
     "level": 4,
     "metadata": {},
     "source": [
      "Get the time mean of exp and clim "
     ]
    },
    {
     "cell_type": "code",
     "collapsed": false,
     "input": [
      "def bounds(cube):\n",
      "    cube.coord('latitude').guess_bounds()\n",
      "    cube.coord('longitude').guess_bounds()\n",
      "    return \n"
     ],
     "language": "python",
     "metadata": {},
     "outputs": [],
     "prompt_number": 10
    },
    {
     "cell_type": "code",
     "collapsed": false,
     "input": [
      "bounds(t_surf_clim)\n",
      "bounds(t_surf)\n",
      "\n",
      "t_surf_clim_mean = t_surf_clim.collapsed('time',iris.analysis.MEAN)\n",
      "grid_areas = iris.analysis.cartography.area_weights(t_surf_clim)\n",
      "t_surf_clim_amean = t_surf_clim.collapsed(['latitude', 'longitude'],\n",
      "                           iris.analysis.MEAN,\n",
      "                           weights=grid_areas)\n",
      "\n",
      "t_surf_mean = t_surf.collapsed('time',iris.analysis.MEAN)\n",
      "grid_areas = iris.analysis.cartography.area_weights(t_surf)\n",
      "t_surf_amean = t_surf.collapsed(['latitude', 'longitude'],\n",
      "                           iris.analysis.MEAN,\n",
      "                           weights=grid_areas)\n"
     ],
     "language": "python",
     "metadata": {},
     "outputs": [
      {
       "output_type": "stream",
       "stream": "stderr",
       "text": [
        "/usr/local/lib/python2.7/dist-packages/iris/coords.py:954: UserWarning: Collapsing a non-contiguous coordinate. Metadata may not be fully descriptive for u'time'.\n",
        "  warnings.warn(msg.format(self.name()))\n",
        "/usr/local/lib/python2.7/dist-packages/iris/analysis/cartography.py:319: UserWarning: Using DEFAULT_SPHERICAL_EARTH_RADIUS.\n",
        "  warnings.warn(\"Using DEFAULT_SPHERICAL_EARTH_RADIUS.\")\n"
       ]
      }
     ],
     "prompt_number": 11
    },
    {
     "cell_type": "code",
     "collapsed": false,
     "input": [
      "%whos\n",
      "print t_surf_mean"
     ],
     "language": "python",
     "metadata": {},
     "outputs": [
      {
       "output_type": "stream",
       "stream": "stdout",
       "text": [
        "Variable            Type        Data/Info\n",
        "-----------------------------------------\n",
        "bounds              function    <function bounds at 0x7f8e6bffe1b8>\n",
        "exp                 str         v_anom.pos\n",
        "glob                module      <module 'glob' from '/usr<...>/lib/python2.7/glob.pyc'>\n",
        "grid_areas          ndarray     48x96x60: 276480 elems, type `float64`, 2211840 bytes (2 Mb)\n",
        "input_dir           str         /home/nicholat/project/greb/input_files/\n",
        "iris                module      <module 'iris' from '/usr<...>kages/iris/__init__.pyc'>\n",
        "main_dir            str         /home/nicholat/project/greb/\n",
        "nc_dir              str         /home/nicholat/project/greb/ncfiles/\n",
        "orig_input_dir      str         /home/nicholat/project/greb/orig_input/\n",
        "os                  module      <module 'os' from '/usr/lib/python2.7/os.pyc'>\n",
        "qplt                module      <module 'iris.quickplot' <...>kages/iris/quickplot.py'>\n",
        "sh                  module      <module 'shutil' from '/u<...>ib/python2.7/shutil.pyc'>\n",
        "t_surf              Cube        surface_temperature / (K)<...>rce: Data from GREB model\n",
        "t_surf_amean        Cube        surface_temperature / (K)<...>mean: latitude, longitude\n",
        "t_surf_clim         Cube        surface_temperature / (K)<...>rce: Data from GREB model\n",
        "t_surf_clim_amean   Cube        surface_temperature / (K)<...>mean: latitude, longitude\n",
        "t_surf_clim_mean    Cube        surface_temperature / (K)<...>ds:\\n          mean: time\n",
        "t_surf_mean         Cube        surface_temperature / (K)<...>ds:\\n          mean: time\n",
        "surface_temperature / (K)           (latitude: 48; longitude: 96)\n",
        "     Dimension coordinates:\n",
        "          latitude                           x              -\n",
        "          longitude                          -              x\n",
        "     Scalar coordinates:\n",
        "          time: 1942-06-30 00:00:00, bound=(1940-01-15 00:00:00, 1944-12-15 00:00:00)\n",
        "     Attributes:\n",
        "          Conventions: CF-1.5\n",
        "          source: Data from GREB model\n",
        "     Cell methods:\n",
        "          mean: time\n"
       ]
      }
     ],
     "prompt_number": 15
    },
    {
     "cell_type": "code",
     "collapsed": false,
     "input": [],
     "language": "python",
     "metadata": {},
     "outputs": []
    }
   ],
   "metadata": {}
  }
 ]
}