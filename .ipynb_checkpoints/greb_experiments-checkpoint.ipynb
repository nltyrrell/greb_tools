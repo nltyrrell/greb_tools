{
 "metadata": {
  "name": "",
  "signature": "sha256:4f35a9a9543f120198dc93530528d80845bfb1033afd0b35389c8243feba00b9"
 },
 "nbformat": 3,
 "nbformat_minor": 0,
 "worksheets": [
  {
   "cells": [
    {
     "cell_type": "code",
     "collapsed": false,
     "input": [
      "%load_ext autoreload"
     ],
     "language": "python",
     "metadata": {},
     "outputs": [],
     "prompt_number": 1
    },
    {
     "cell_type": "code",
     "collapsed": false,
     "input": [
      "%autoreload 2"
     ],
     "language": "python",
     "metadata": {},
     "outputs": [],
     "prompt_number": 2
    },
    {
     "cell_type": "heading",
     "level": 2,
     "metadata": {},
     "source": [
      "Experiments with the GREB Model"
     ]
    },
    {
     "cell_type": "markdown",
     "metadata": {},
     "source": [
      "Initial experiments\n",
      "- Wind anomaly: \n",
      "    - v_anom.pos/neg\n",
      "    - u_anom.pos/neg\n",
      "    - u_vanom.pos/neg\n",
      "- Cloud anomaly: \n",
      "    - cld.inc\n",
      "    - cld.dec\n",
      "- Soil Moisture anomaly: \n",
      "    - smc.wet\n",
      "    - smc.dry\n",
      "- SST anomaly"
     ]
    },
    {
     "cell_type": "heading",
     "level": 3,
     "metadata": {},
     "source": [
      "Creat input files and run model"
     ]
    },
    {
     "cell_type": "markdown",
     "metadata": {},
     "source": [
      "Define the experiment name"
     ]
    },
    {
     "cell_type": "code",
     "collapsed": false,
     "input": [
      "exp = \"smc.dry\"\n",
      "# exp = \"clim\"\n",
      "# exp = \"v_anom.pos\""
     ],
     "language": "python",
     "metadata": {},
     "outputs": [],
     "prompt_number": 21
    },
    {
     "cell_type": "markdown",
     "metadata": {},
     "source": [
      "Create the input files.\n",
      "\n",
      "Copy them to main directory."
     ]
    },
    {
     "cell_type": "code",
     "collapsed": false,
     "input": [
      "print exp"
     ],
     "language": "python",
     "metadata": {},
     "outputs": [
      {
       "output_type": "stream",
       "stream": "stdout",
       "text": [
        "smc.dry\n"
       ]
      }
     ],
     "prompt_number": 22
    },
    {
     "cell_type": "code",
     "collapsed": false,
     "input": [
      "import write_input as wi\n",
      "\n",
      "if exp == \"v_anom.pos\":\n",
      "    wi.write_v_anom()\n",
      "if exp == \"smc.dry\":\n",
      "    wi.write_smc()\n",
      "if exp == \"clim\":\n",
      "    print \"nothing needs doin'\""
     ],
     "language": "python",
     "metadata": {},
     "outputs": [
      {
       "output_type": "stream",
       "stream": "stdout",
       "text": [
        "Soil moisture and anomalous wind loaded\n",
        "all land now very, very dry"
       ]
      },
      {
       "output_type": "stream",
       "stream": "stdout",
       "text": [
        "\n",
        "Writing soil.moisture.smc.dry.bin/nc\n"
       ]
      }
     ],
     "prompt_number": 59
    },
    {
     "cell_type": "code",
     "collapsed": false,
     "input": [
      "import shutil as sh\n",
      "import glob\n",
      "import os\n",
      "\n",
      "main_dir = '/home/nicholat/project/greb/'\n",
      "input_dir = main_dir + 'input_files/'\n",
      "orig_input_dir = main_dir + 'orig_input/'\n",
      "\n",
      "# copy the original input files into the main folder\n",
      "for filename in glob.glob(os.path.join(orig_input_dir, '*.*')):\n",
      "    sh.copy(filename, main_dir)\n",
      "print \"Original input files copied to main dir\"\n",
      "\n",
      "if exp == 'v_anom.pos':\n",
      "    sh.copyfile(input_dir+'meridional.wind.v_anom.pos.bin',main_dir+'meridional.wind')\n",
      "    print \"Anomalous meridional wind input copied to main dir\"\n",
      "\n",
      "if exp == 'smc.dry':\n",
      "    sh.copyfile(input_dir+'soil.moisture.smc.dry.bin',main_dir+'soil.moisture')\n",
      "    print \"Anomalous soil moisture input copied to main dir\"\n",
      "        "
     ],
     "language": "python",
     "metadata": {},
     "outputs": [
      {
       "output_type": "stream",
       "stream": "stdout",
       "text": [
        "Original input files copied to main dir\n",
        "Anomalous soil moisture input copied to main dir"
       ]
      },
      {
       "output_type": "stream",
       "stream": "stdout",
       "text": [
        "\n"
       ]
      }
     ],
     "prompt_number": 26
    },
    {
     "cell_type": "markdown",
     "metadata": {},
     "source": [
      "Run the model"
     ]
    },
    {
     "cell_type": "code",
     "collapsed": false,
     "input": [
      "%%bash\n",
      "cat namelist"
     ],
     "language": "python",
     "metadata": {},
     "outputs": [
      {
       "output_type": "stream",
       "stream": "stdout",
       "text": [
        "&NUMERICS\n",
        "time_flux = 3  ! length of flux corrections run [yrs]\n",
        "time_ctrl = 3  ! length of control run [yrs\n",
        "time_scnr = 5  ! length of scenariorun [yrs\n",
        "/\n",
        "&PHYSICS\n",
        "log_exp = 10 ! complete GREB model; 2xCO2 forcing\n",
        "/\n"
       ]
      }
     ],
     "prompt_number": 27
    },
    {
     "cell_type": "heading",
     "level": 4,
     "metadata": {},
     "source": [
      "Run GREB model"
     ]
    },
    {
     "cell_type": "code",
     "collapsed": false,
     "input": [
      "%%bash\n",
      "./compile_run_greb.sh"
     ],
     "language": "python",
     "metadata": {},
     "outputs": [
      {
       "output_type": "stream",
       "stream": "stdout",
       "text": [
        " % start climate shell\n",
        " % diagonstic point lat/lon:  30. 172.5\n",
        " % time flux/control/scenario:  3 3 5\n",
        " % flux correction  340.\n",
        " 0. 4.7705994 26.786957 4.8493347\n",
        " 0. 4.7705994 26.786957 4.8493347\n",
        " 0. 4.7705994 26.786957 4.8493347\n",
        " % CONTROL RUN CO2= 340.   time= 3 yr\n",
        " 1970. 4.7705994 26.786957 4.8493347\n",
        " 1970. 4.7705994 26.786957 4.8493347\n",
        " 1970. 4.7705994 26.786957 4.8493347\n",
        " % SCENARIO EXP:  10   time= 5 yr\n",
        " 1940. 4.7705994 26.786957 4.8493347\n",
        " 1941. 4.7705994 26.786957 4.8493347\n",
        " 1942. 4.7705994 26.786957 4.8493347\n",
        " 1943. 4.7705994 26.786957 4.8493347\n",
        " 1944. 4.7705994 26.786957 4.8493347\n"
       ]
      }
     ],
     "prompt_number": 28
    },
    {
     "cell_type": "code",
     "collapsed": false,
     "input": [
      "# Copy the output files to bin_files dir and rename\n",
      "bin_dir = main_dir + 'bin_files/'\n",
      "sh.copyfile(main_dir + 'control',bin_dir + 'control.' + exp + '.bin')\n",
      "sh.copyfile(main_dir + 'scenario',bin_dir + 'scenario.' + exp + '.bin')"
     ],
     "language": "python",
     "metadata": {},
     "outputs": [],
     "prompt_number": 29
    },
    {
     "cell_type": "code",
     "collapsed": false,
     "input": [
      "ls bin_files/"
     ],
     "language": "python",
     "metadata": {},
     "outputs": [
      {
       "output_type": "stream",
       "stream": "stdout",
       "text": [
        "control.clim.bin     control.v_anom.pos.bin  scenario.smc.dry.bin  scenario.v_anom.pos.bin\r\n",
        "control.smc.dry.bin  scenario.clim.bin       scenario.vanom.bin\r\n"
       ]
      }
     ],
     "prompt_number": 30
    },
    {
     "cell_type": "heading",
     "level": 4,
     "metadata": {},
     "source": [
      "Convert output binary files to netcdf"
     ]
    },
    {
     "cell_type": "code",
     "collapsed": false,
     "input": [
      "import output_to_nc as b2n\n",
      "\n",
      "cube_list = b2n.write_exp(exp)"
     ],
     "language": "python",
     "metadata": {},
     "outputs": [
      {
       "output_type": "stream",
       "stream": "stdout",
       "text": [
        "./bin_files/scenario.smc.dry.bin\n",
        "tdim = 60\n",
        "Save cube as ./ncfiles/t_surf.smc.dry.nc\n",
        "tdim = 60\n",
        "Save cube as ./ncfiles/t_atmos.smc.dry.nc\n",
        "tdim = 60\n",
        "Save cube as ./ncfiles/t_ocean.smc.dry.nc"
       ]
      },
      {
       "output_type": "stream",
       "stream": "stdout",
       "text": [
        "\n",
        "tdim = 60\n",
        "Save cube as ./ncfiles/vapour.smc.dry.nc\n",
        "tdim = 60\n",
        "Save cube as ./ncfiles/albedo.smc.dry.nc\n"
       ]
      }
     ],
     "prompt_number": 31
    },
    {
     "cell_type": "code",
     "collapsed": false,
     "input": [
      "ls ncfiles/"
     ],
     "language": "python",
     "metadata": {},
     "outputs": [
      {
       "output_type": "stream",
       "stream": "stdout",
       "text": [
        "albedo.clim.nc                 ocean.mld.nc              t_ocean.exp5.nc        u_reg_aus_850.nc\r\n",
        "albedo.exp5.nc                 outfile.bin.nc            t_ocean.smc.dry.nc     vapor.nc\r\n",
        "albedo.smc.dry.nc              soil.moisture.nc          t_ocean.sst1k.nc       vapour.clim.nc\r\n",
        "albedo.sst1k.nc                soil.moisture.smc.dry.nc  t_ocean.v_anom.pos.nc  vapour.exp5.nc\r\n",
        "albedo.v_anom.pos.nc           t_atmos.clim.nc           t_surf.clim.nc         vapour.smc.dry.nc\r\n",
        "cloud.cover.nc                 t_atmos.exp5.nc           t_surf.exp5.nc         vapour.sst1k.nc\r\n",
        "meridional.wind.nc             t_atmos.smc.dry.nc        tsurf.nc               vapour.v_anom.pos.nc\r\n",
        "meridional.wind.v_anom.nc      t_atmos.sst1k.nc          t_surf.smc.dry.nc      v_reg_aus_850.nc\r\n",
        "meridional.wind.vanom.nc       t_atmos.v_anom.pos.nc     t_surf.sst1k.nc        zonal.wind.nc\r\n",
        "meridional.wind.v_anom.pos.nc  t_ocean.clim.nc           t_surf.v_anom.pos.nc\r\n"
       ]
      }
     ],
     "prompt_number": 32
    },
    {
     "cell_type": "heading",
     "level": 4,
     "metadata": {},
     "source": [
      "Check input files"
     ]
    },
    {
     "cell_type": "code",
     "collapsed": false,
     "input": [
      "import bin_to_nc as bn\n",
      "v_anom  = bn.bin2iris('input_files/meridional.wind.v_anom.pos.bin')\n",
      "smc = bn.bin2iris('input_files/soil.moisture.smc.dry.bin')\n",
      "smcdry = iris.load_cube('./ncfiles/soil.moisture.smc.dry.nc')\n",
      "print smc"
     ],
     "language": "python",
     "metadata": {},
     "outputs": [
      {
       "output_type": "stream",
       "stream": "stdout",
       "text": [
        "input_files/meridional.wind.v_anom.pos.bin\n",
        "input_files/soil.moisture.smc.dry.bin"
       ]
      },
      {
       "output_type": "stream",
       "stream": "stdout",
       "text": [
        "\n",
        "duration_of_sunshine / (s)          (latitude: 48; longitude: 96; time: 730)\n",
        "     Dimension coordinates:\n",
        "          latitude                           x              -         -\n",
        "          longitude                          -              x         -\n",
        "          time                               -              -         x\n",
        "     Attributes:\n",
        "          source: Input Data for GREB model"
       ]
      },
      {
       "output_type": "stream",
       "stream": "stdout",
       "text": [
        "\n"
       ]
      }
     ],
     "prompt_number": 78
    },
    {
     "cell_type": "code",
     "collapsed": false,
     "input": [
      "%matplotlib inline\n",
      "qplt.pcmeshclf(smc[:,:,-1])"
     ],
     "language": "python",
     "metadata": {},
     "outputs": [
      {
       "metadata": {},
       "output_type": "pyout",
       "prompt_number": 80,
       "text": [
        "<matplotlib.collections.QuadMesh at 0x7f5986d2b310>"
       ]
      },
      {
       "metadata": {},
       "output_type": "display_data",
       "png": "[encoded data removed]",
       "text": [
        "<matplotlib.figure.Figure at 0x7f5988010710>"
       ]
      }
     ],
     "prompt_number": 80
    },
    {
     "cell_type": "code",
     "collapsed": true,
     "input": [
      "who"
     ],
     "language": "python",
     "metadata": {},
     "outputs": [
      {
       "output_type": "stream",
       "stream": "stdout",
       "text": [
        "b2n\t bin_dir\t bn\t cube_list\t exp\t filename\t glob\t input_dir\t iris\t \n",
        "main_dir\t nc_dir\t orig_input_dir\t os\t qplt\t sh\t smc\t smcdry\t smcii\t \n",
        "t_surf_clim\t v_anom\t wi\t \n"
       ]
      }
     ],
     "prompt_number": 81
    },
    {
     "cell_type": "code",
     "collapsed": false,
     "input": [],
     "language": "python",
     "metadata": {},
     "outputs": []
    }
   ],
   "metadata": {}
  }
 ]
}