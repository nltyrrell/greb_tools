{
 "metadata": {
  "name": ""
 },
 "nbformat": 3,
 "nbformat_minor": 0,
 "worksheets": [
  {
   "cells": [
    {
     "cell_type": "code",
     "collapsed": false,
     "input": [
      "%load_ext autoreload"
     ],
     "language": "python",
     "metadata": {},
     "outputs": [],
     "prompt_number": 41
    },
    {
     "cell_type": "code",
     "collapsed": false,
     "input": [
      "%autoreload 2"
     ],
     "language": "python",
     "metadata": {},
     "outputs": [],
     "prompt_number": 42
    },
    {
     "cell_type": "heading",
     "level": 2,
     "metadata": {},
     "source": [
      "Experiments with the GREB Model"
     ]
    },
    {
     "cell_type": "markdown",
     "metadata": {},
     "source": [
      "Initial experiments\n",
      "- Wind anomaly: \n",
      "    - v_anom.pos/neg\n",
      "    - u_anom.pos/neg\n",
      "    - u_vanom.pos/neg\n",
      "- Cloud anomaly: \n",
      "    - cld.inc\n",
      "    - cld.dec\n",
      "- Soil Moisture anomaly: \n",
      "    - smc.wet\n",
      "    - smc.dry\n",
      "- SST anomaly"
     ]
    },
    {
     "cell_type": "heading",
     "level": 4,
     "metadata": {},
     "source": [
      "Begin creating input files and running model"
     ]
    },
    {
     "cell_type": "markdown",
     "metadata": {},
     "source": [
      "Define the experiment name"
     ]
    },
    {
     "cell_type": "code",
     "collapsed": false,
     "input": [
      "exp = \"v_anom.pos\""
     ],
     "language": "python",
     "metadata": {},
     "outputs": [],
     "prompt_number": 43
    },
    {
     "cell_type": "markdown",
     "metadata": {},
     "source": [
      "Create the input files"
     ]
    },
    {
     "cell_type": "code",
     "collapsed": false,
     "input": [
      "print exp"
     ],
     "language": "python",
     "metadata": {},
     "outputs": [
      {
       "output_type": "stream",
       "stream": "stdout",
       "text": [
        "v_anom.pos\n"
       ]
      }
     ],
     "prompt_number": 38
    },
    {
     "cell_type": "code",
     "collapsed": false,
     "input": [
      "import write_input as wi\n",
      "\n",
      "if exp == \"v_anom.pos\":\n",
      "    wi.write_v_anom()\n"
     ],
     "language": "python",
     "metadata": {},
     "outputs": [
      {
       "output_type": "stream",
       "stream": "stdout",
       "text": [
        "meridional.wind and anomalous wind loaded\n",
        "Writing meridional.wind.v_anom.bin and meridional.wind.v_anom.nc and anomalous wind loaded"
       ]
      },
      {
       "output_type": "stream",
       "stream": "stdout",
       "text": [
        "\n"
       ]
      }
     ],
     "prompt_number": 54
    },
    {
     "cell_type": "code",
     "collapsed": false,
     "input": [],
     "language": "python",
     "metadata": {},
     "outputs": []
    },
    {
     "cell_type": "code",
     "collapsed": false,
     "input": [
      "import shutil as sh\n",
      "\n",
      "main_dir = '/home/nicholat/project/greb/'\n",
      "input_dir = main_dir + 'input_files/'\n",
      "\n",
      "if exp == 'v_anom.pos':\n",
      "    sh.copyfile(input_dir+'meridional.wind.v_anom.pos.bin',main_dir+'meridional.wind')\n",
      "    \n",
      "sh.copyfile('/home/nicholat/project/greb/input_files/'"
     ],
     "language": "python",
     "metadata": {},
     "outputs": [],
     "prompt_number": 51
    },
    {
     "cell_type": "code",
     "collapsed": false,
     "input": [
      "%%bash\n",
      "echo exp"
     ],
     "language": "python",
     "metadata": {},
     "outputs": [
      {
       "output_type": "stream",
       "stream": "stdout",
       "text": [
        "exp\n"
       ]
      }
     ],
     "prompt_number": 26
    },
    {
     "cell_type": "code",
     "collapsed": false,
     "input": [
      "whos"
     ],
     "language": "python",
     "metadata": {},
     "outputs": [
      {
       "output_type": "stream",
       "stream": "stdout",
       "text": [
        "Variable      Type        Data/Info\n",
        "-----------------------------------\n",
        "anom_u        Cube        Lin Regression Aus tsfc u<...>gression Aus tsfc u_850.0\n",
        "anom_v        Cube        y_wind / (m s-1)         <...>gression Aus tsfc v_850.0\n",
        "exp           str         v_anom.pos\n",
        "input_dir     str         /home/nicholat/project/greb/input_files/\n",
        "iplt          module      <module 'iris.plot' from <...>-packages/iris/plot.pyc'>\n",
        "iris          module      <module 'iris' from '/usr<...>kages/iris/__init__.pyc'>\n",
        "main_dir      str         /home/nicholat/project/greb/\n",
        "mer_wind      Cube        y_wind / (m s-1)         <...>Input Data for GREB model\n",
        "new_merwind   Cube        y_wind / (m s-1)         <...>Input Data for GREB model\n",
        "np            module      <module 'numpy' from '/us<...>ages/numpy/__init__.pyc'>\n",
        "os            module      <module 'os' from '/usr/lib/python2.7/os.pyc'>\n",
        "plt           module      <module 'matplotlib.pyplo<...>s/matplotlib/pyplot.pyc'>\n",
        "qplt          module      <module 'iris.quickplot' <...>kages/iris/quickplot.py'>\n",
        "sh            module      <module 'shutil' from '/u<...>ib/python2.7/shutil.pyc'>\n",
        "sys           module      <module 'sys' (built-in)>\n",
        "writebin      function    <function writebin at 0x7f150e01b500>\n"
       ]
      }
     ],
     "prompt_number": 29
    },
    {
     "cell_type": "code",
     "collapsed": false,
     "input": [],
     "language": "python",
     "metadata": {},
     "outputs": []
    }
   ],
   "metadata": {}
  }
 ]
}